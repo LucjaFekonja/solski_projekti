{
 "cells": [
  {
   "cell_type": "code",
   "execution_count": 2,
   "metadata": {},
   "outputs": [],
   "source": [
    "def gini(D, a, b):\n",
    "    return D * (1 - (a/D)**2 - (b/D)**2)\n",
    "\n",
    "def gain(i, iL, iR):\n",
    "    return i - iL - iR"
   ]
  },
  {
   "cell_type": "code",
   "execution_count": 7,
   "metadata": {},
   "outputs": [],
   "source": [
    "giniW = gini(100, 50, 50)\n",
    "giniWL = gini(50, 20, 30)\n",
    "giniWR = giniWL\n",
    "\n",
    "gain_wine = gain(giniW, giniWL, giniWR)"
   ]
  },
  {
   "cell_type": "code",
   "execution_count": 11,
   "metadata": {},
   "outputs": [
    {
     "name": "stdout",
     "output_type": "stream",
     "text": [
      "WINE\n",
      "gain:  2.0 \n",
      "gini:  50.0 \n",
      "gini left:  24.0 \n",
      "gini right:  24.0\n"
     ]
    }
   ],
   "source": [
    "print(\"WINE\")\n",
    "print(\"gain: \", gain_wine, \"\\ngini: \", giniW, \"\\ngini left: \", giniWL, \"\\ngini right: \", giniWR)"
   ]
  },
  {
   "cell_type": "code",
   "execution_count": 14,
   "metadata": {},
   "outputs": [],
   "source": [
    "giniR = gini(100, 30, 70)\n",
    "giniRL = gini(30, 20, 10)\n",
    "giniRR = gini(70, 20, 50)\n",
    "\n",
    "gain_running = gain(giniR, giniRL, giniRR)"
   ]
  },
  {
   "cell_type": "code",
   "execution_count": 15,
   "metadata": {},
   "outputs": [
    {
     "name": "stdout",
     "output_type": "stream",
     "text": [
      "RUNNING\n",
      "gain:  0.09523809523809845 \n",
      "gini:  42.00000000000001 \n",
      "gini left:  13.333333333333334 \n",
      "gini right:  28.571428571428573\n"
     ]
    }
   ],
   "source": [
    "print(\"RUNNING\")\n",
    "print(\"gain: \", gain_running, \"\\ngini: \", giniR, \"\\ngini left: \", giniRL, \"\\ngini right: \", giniRR)"
   ]
  },
  {
   "cell_type": "code",
   "execution_count": 18,
   "metadata": {},
   "outputs": [],
   "source": [
    "giniP = gini(100, 80, 20)\n",
    "giniPL = gini(80, 30, 50)\n",
    "giniPR = gini(20, 10, 10)\n",
    "\n",
    "gain_pizza = gain(giniP, giniPL, giniPR) "
   ]
  },
  {
   "cell_type": "code",
   "execution_count": 19,
   "metadata": {},
   "outputs": [
    {
     "name": "stdout",
     "output_type": "stream",
     "text": [
      "PIZZA\n",
      "gain:  -15.500000000000014 \n",
      "gini:  31.999999999999986 \n",
      "gini left:  37.5 \n",
      "gini right:  10.0\n"
     ]
    }
   ],
   "source": [
    "print(\"PIZZA\")\n",
    "print(\"gain: \", gain_pizza, \"\\ngini: \", giniP, \"\\ngini left: \", giniPL, \"\\ngini right: \", giniPR)"
   ]
  },
  {
   "cell_type": "code",
   "execution_count": 9,
   "metadata": {},
   "outputs": [
    {
     "data": {
      "text/plain": [
       "50.0"
      ]
     },
     "execution_count": 9,
     "metadata": {},
     "output_type": "execute_result"
    }
   ],
   "source": [
    "gini(100, 50, 50)"
   ]
  },
  {
   "cell_type": "code",
   "execution_count": 8,
   "metadata": {},
   "outputs": [
    {
     "data": {
      "text/plain": [
       "1.9600000000000042"
      ]
     },
     "execution_count": 8,
     "metadata": {},
     "output_type": "execute_result"
    }
   ],
   "source": [
    "gini(50, 49, 1)"
   ]
  },
  {
   "cell_type": "code",
   "execution_count": 2,
   "metadata": {},
   "outputs": [
    {
     "data": {
      "text/plain": [
       "1.2422975882236687e+28"
      ]
     },
     "execution_count": 2,
     "metadata": {},
     "output_type": "execute_result"
    }
   ],
   "source": [
    "# Pri a1 in a2\n",
    "# I(D_LL), I(D_LR), I(D_RL) in I(D_RR) =\n",
    "2**98 * (1 - 0.02**2 - 0.98**2)"
   ]
  },
  {
   "cell_type": "code",
   "execution_count": 3,
   "metadata": {},
   "outputs": [
    {
     "data": {
      "text/plain": [
       "0.0"
      ]
     },
     "execution_count": 3,
     "metadata": {},
     "output_type": "execute_result"
    }
   ],
   "source": [
    "2**99 - (2**98 - 1.24 - 1.24) * 2"
   ]
  },
  {
   "cell_type": "code",
   "execution_count": 4,
   "metadata": {},
   "outputs": [
    {
     "data": {
      "text/plain": [
       "1.2549740942259496e+28"
      ]
     },
     "execution_count": 4,
     "metadata": {},
     "output_type": "execute_result"
    }
   ],
   "source": [
    "# Samo pri a1. \n",
    "# I(D_L) in I(D_R) =\n",
    "2**99 * (1 - 0.01**2 - 0.99**2)"
   ]
  },
  {
   "cell_type": "code",
   "execution_count": 5,
   "metadata": {},
   "outputs": [
    {
     "data": {
      "text/plain": [
       "6.087258182295957e+29"
      ]
     },
     "execution_count": 5,
     "metadata": {},
     "output_type": "execute_result"
    }
   ],
   "source": [
    "2**99 - 2 * 2**99 * (1 - 0.01**2 - 0.99**2)"
   ]
  },
  {
   "cell_type": "code",
   "execution_count": 6,
   "metadata": {},
   "outputs": [
    {
     "data": {
      "text/plain": [
       "4.969190352894675e+28"
      ]
     },
     "execution_count": 6,
     "metadata": {},
     "output_type": "execute_result"
    }
   ],
   "source": [
    "2**99 - 2 * (2**98 - 2 * 2**98 * (1 - 0.02**2 - 0.98**2))"
   ]
  }
 ],
 "metadata": {
  "kernelspec": {
   "display_name": "Python 3",
   "language": "python",
   "name": "python3"
  },
  "language_info": {
   "codemirror_mode": {
    "name": "ipython",
    "version": 3
   },
   "file_extension": ".py",
   "mimetype": "text/x-python",
   "name": "python",
   "nbconvert_exporter": "python",
   "pygments_lexer": "ipython3",
   "version": "3.11.8"
  }
 },
 "nbformat": 4,
 "nbformat_minor": 2
}
