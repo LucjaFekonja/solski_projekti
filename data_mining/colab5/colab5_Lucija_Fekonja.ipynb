{
  "nbformat": 4,
  "nbformat_minor": 0,
  "metadata": {
    "colab": {
      "provenance": [],
      "machine_shape": "hm"
    },
    "kernelspec": {
      "name": "python3",
      "display_name": "Python 3"
    }
  },
  "cells": [
    {
      "cell_type": "markdown",
      "metadata": {
        "id": "kPt5q27L5557"
      },
      "source": [
        "# CS246 - Colab 5\n",
        "## PageRank"
      ]
    },
    {
      "cell_type": "code",
      "source": [
        "from IPython.display import Image\n",
        "print(\"Colab 5 Mascot\")\n",
        "Image(url='https://media.giphy.com/media/cCOVfFwDI3awdse5A3/giphy.gif',width=150)"
      ],
      "metadata": {
        "colab": {
          "base_uri": "https://localhost:8080/",
          "height": 193
        },
        "id": "yUHXnec92vdy",
        "outputId": "7d8100f9-e4af-43af-e81e-e568f7c50a2a"
      },
      "execution_count": 1,
      "outputs": [
        {
          "output_type": "stream",
          "name": "stdout",
          "text": [
            "Colab 5 Mascot\n"
          ]
        },
        {
          "output_type": "execute_result",
          "data": {
            "text/html": [
              "<img src=\"https://media.giphy.com/media/cCOVfFwDI3awdse5A3/giphy.gif\" width=\"150\"/>"
            ],
            "text/plain": [
              "<IPython.core.display.Image object>"
            ]
          },
          "metadata": {},
          "execution_count": 1
        }
      ]
    },
    {
      "cell_type": "markdown",
      "metadata": {
        "id": "p0-YhEpP_Ds-"
      },
      "source": [
        "### Setup"
      ]
    },
    {
      "cell_type": "markdown",
      "metadata": {
        "id": "PUUjUvXe3Sjk"
      },
      "source": [
        "First of all, we authenticate a Google Drive client to download the dataset we will be processing in this Colab.\n",
        "\n",
        "**Make sure to follow the interactive instructions.**"
      ]
    },
    {
      "cell_type": "code",
      "metadata": {
        "id": "lRElWs_x2mGh"
      },
      "source": [
        "from pydrive2.auth import GoogleAuth\n",
        "from pydrive2.drive import GoogleDrive\n",
        "from google.colab import auth\n",
        "from oauth2client.client import GoogleCredentials\n",
        "\n",
        "# Authenticate and create the PyDrive client\n",
        "auth.authenticate_user()\n",
        "gauth = GoogleAuth()\n",
        "gauth.credentials = GoogleCredentials.get_application_default()\n",
        "drive = GoogleDrive(gauth)"
      ],
      "execution_count": 2,
      "outputs": []
    },
    {
      "cell_type": "code",
      "metadata": {
        "id": "QHsFTGUy2n1c"
      },
      "source": [
        "id='1EoolSK32_U74I4FeLox88iuUB_SUUYsI'\n",
        "downloaded = drive.CreateFile({'id': id})\n",
        "downloaded.GetContentFile('web-Stanford.txt')"
      ],
      "execution_count": 3,
      "outputs": []
    },
    {
      "cell_type": "markdown",
      "metadata": {
        "id": "qwtlO4_m_LbQ"
      },
      "source": [
        "If you executed the cells above, you should be able to see the dataset we will use for this Colab under the \"Files\" tab on the left panel.\n",
        "\n",
        "Next, we import some of the common libraries needed for our task."
      ]
    },
    {
      "cell_type": "code",
      "metadata": {
        "id": "twk-K-jilWK7"
      },
      "source": [
        "import pandas as pd\n",
        "import numpy as np\n",
        "import matplotlib.pyplot as plt\n",
        "%matplotlib inline"
      ],
      "execution_count": 4,
      "outputs": []
    },
    {
      "cell_type": "markdown",
      "metadata": {
        "id": "kAYRX2PMm0L6"
      },
      "source": [
        "### Data Loading"
      ]
    },
    {
      "cell_type": "markdown",
      "metadata": {
        "id": "GXzc_R6ArXtL"
      },
      "source": [
        "For this Colab we will be using [NetworkX](https://networkx.github.io), a Python package for the creation, manipulation, and study of the structure, dynamics, and functions of complex networks ([tutorial](https://networkx.org/documentation/stable/tutorial.html)).\n",
        "\n",
        "The dataset we will analyze is a snapshot of the Web Graph centered around [stanford.edu](https://stanford.edu), collected in 2002. Nodes represent pages from Stanford University (stanford.edu) and directed edges represent hyperlinks between them. [[More Info]](http://snap.stanford.edu/data/web-Stanford.html)"
      ]
    },
    {
      "cell_type": "code",
      "metadata": {
        "id": "LPIadGxvLyyq"
      },
      "source": [
        "import networkx as nx\n",
        "\n",
        "G = nx.read_edgelist('web-Stanford.txt', create_using=nx.DiGraph)"
      ],
      "execution_count": 5,
      "outputs": []
    },
    {
      "cell_type": "markdown",
      "source": [
        "#### Function to print graph information"
      ],
      "metadata": {
        "id": "zgVOrXN1EWNh"
      }
    },
    {
      "cell_type": "code",
      "metadata": {
        "id": "Smd1XvR7MLyE"
      },
      "source": [
        "def print_graph_info(G, directed=True):\n",
        "  print(\"Number of nodes:\", len(G.nodes))\n",
        "  print(\"Number of edges:\", len(G.edges))\n",
        "  if directed:\n",
        "    print(\"Average in-degree:\", sum(dict(G.in_degree).values()) / len(G.nodes))\n",
        "    print(\"Average out-degree:\", sum(dict(G.out_degree).values()) / len(G.nodes))\n",
        "  else:\n",
        "    print(\"Average degree:\", sum(dict(G.degree).values()) / len(G.nodes))"
      ],
      "execution_count": 6,
      "outputs": []
    },
    {
      "cell_type": "code",
      "source": [
        "print_graph_info(G, True)"
      ],
      "metadata": {
        "id": "gcZxbivxEcDT",
        "colab": {
          "base_uri": "https://localhost:8080/"
        },
        "outputId": "ecf6b40c-7c7e-4b95-c1a5-a68560024a09"
      },
      "execution_count": 7,
      "outputs": [
        {
          "output_type": "stream",
          "name": "stdout",
          "text": [
            "Number of nodes: 281903\n",
            "Number of edges: 2312497\n",
            "Average in-degree: 8.203165627893283\n",
            "Average out-degree: 8.203165627893283\n"
          ]
        }
      ]
    },
    {
      "cell_type": "markdown",
      "metadata": {
        "id": "vbmr23B2rJKR"
      },
      "source": [
        "### Your Task"
      ]
    },
    {
      "cell_type": "markdown",
      "metadata": {
        "id": "x15OQeyys1xd"
      },
      "source": [
        "To begin with, let's simplify our analysis by ignoring the dangling nodes and the disconnected components in the original graph.\n",
        "\n",
        "Use NetworkX to identify the **largest** weakly connected component in the ```G``` graph.  **From now on, use this connected component for all the following tasks.**\n",
        "\n",
        "Print its information."
      ]
    },
    {
      "cell_type": "code",
      "metadata": {
        "id": "R9tDwRidIw-Q"
      },
      "source": [
        "wcc = max(nx.weakly_connected_components(G), key=len)\n",
        "max_wcc = nx.subgraph(G, wcc)"
      ],
      "execution_count": 8,
      "outputs": []
    },
    {
      "cell_type": "code",
      "source": [
        "print_graph_info(max_wcc, True)"
      ],
      "metadata": {
        "colab": {
          "base_uri": "https://localhost:8080/"
        },
        "id": "EJ-VMgoXsoGD",
        "outputId": "d86a88fc-94f0-4cf9-86cd-a96b0ba8f228"
      },
      "execution_count": 9,
      "outputs": [
        {
          "output_type": "stream",
          "name": "stdout",
          "text": [
            "Number of nodes: 255265\n",
            "Number of edges: 2234572\n",
            "Average in-degree: 8.753930229369479\n",
            "Average out-degree: 8.753930229369479\n"
          ]
        }
      ]
    },
    {
      "cell_type": "markdown",
      "metadata": {
        "id": "mbYMNjBhuhK-"
      },
      "source": [
        "Compute the PageRank vector, using the default parameters in NetworkX: [https://networkx.github.io/documentation/stable/reference/algorithms/generated/networkx.algorithms.link_analysis.pagerank_alg.pagerank.html#networkx.algorithms.link_analysis.pagerank_alg.pageranky](https://networkx.github.io/documentation/stable/reference/algorithms/generated/networkx.algorithms.link_analysis.pagerank_alg.pagerank.html#networkx.algorithms.link_analysis.pagerank_alg.pagerank)"
      ]
    },
    {
      "cell_type": "code",
      "metadata": {
        "id": "ll-rVh7KVoLA"
      },
      "source": [
        "rank_G = sorted(nx.pagerank(max_wcc, alpha=0.85, personalization=None, max_iter=100, tol=1e-06, nstart=None, weight='weight', dangling=None).items(), key=lambda x:x[1])"
      ],
      "execution_count": 10,
      "outputs": []
    },
    {
      "cell_type": "markdown",
      "metadata": {
        "id": "xDx905Wk3FKf"
      },
      "source": [
        "In 1999, Barabási and Albert proposed an elegant mathematical model which can generate graphs with topological properties similar to the Web Graph (also called Scale-free Networks).\n",
        "\n",
        "If you complete the steps below, you should obtain some empirical evidence that the Random Graph model is inferior compared to the Barabási–Albert model when it comes to generating a graph resembling the World Wide Web!"
      ]
    },
    {
      "cell_type": "markdown",
      "metadata": {
        "id": "Ox3ksWEFyaP-"
      },
      "source": [
        "As such, we will use two different graph generator methods, and then we will test how well they approximate the Web Graph structure by means of comparing the respective PageRank vectors. [[NetworkX Graph generators]](https://networkx.github.io/documentation/stable/reference/generators.html#)\n",
        "\n",
        "Using the parameters ```seed = 1``` and ```directed=False``` where applicable, generate:\n",
        "\n",
        "\n",
        "1.   a random graph (with the fast method), setting ```n``` equal to the number of nodes in the original connected component, and ```p = 0.00008```\n",
        "2.   a Barabasi-Albert graph (with the standard method), setting ```n``` equal to the number of nodes in the original connected component, and finding the right ***integer*** value for ```m``` such as the resulting number of edges **approximates by excess(the value that is closest to and satisfies $\\geq$)** the number of edges in the original connected component (the largest weakly connected component you attained above)\n",
        "\n",
        "and compute the PageRank vectors for both graphs. Print generated graph's information, if needed.\n"
      ]
    },
    {
      "cell_type": "code",
      "metadata": {
        "id": "5Yd94CE9aPJP"
      },
      "source": [
        "n = 255265\n",
        "p = 0.00008\n",
        "rand_G = nx.fast_gnp_random_graph(n, p, seed=1, directed=False)\n",
        "rank_rand_G = sorted(nx.pagerank(rand_G, alpha=0.85, personalization=None, max_iter=100, tol=1e-06, nstart=None, weight='weight', dangling=None).items(), key=lambda x:x[1])"
      ],
      "execution_count": 11,
      "outputs": []
    },
    {
      "cell_type": "code",
      "source": [
        "rank_rand_G[-1]"
      ],
      "metadata": {
        "colab": {
          "base_uri": "https://localhost:8080/"
        },
        "id": "YdBx01xq1Lc5",
        "outputId": "f834e9c2-3855-4b94-ef51-579c26b946f0"
      },
      "execution_count": 12,
      "outputs": [
        {
          "output_type": "execute_result",
          "data": {
            "text/plain": [
              "(150787, 7.458986619588909e-06)"
            ]
          },
          "metadata": {},
          "execution_count": 12
        }
      ]
    },
    {
      "cell_type": "code",
      "source": [
        "print_graph_info(rand_G, False)"
      ],
      "metadata": {
        "colab": {
          "base_uri": "https://localhost:8080/"
        },
        "id": "6S0JppA_zA1B",
        "outputId": "f5554fc0-b1ea-40a8-8c8c-df7cbf1d76ad"
      },
      "execution_count": 13,
      "outputs": [
        {
          "output_type": "stream",
          "name": "stdout",
          "text": [
            "Number of nodes: 255265\n",
            "Number of edges: 2606386\n",
            "Average degree: 20.421021291598926\n"
          ]
        }
      ]
    },
    {
      "cell_type": "code",
      "source": [
        "m = 9\n",
        "barabasi_albert_G = nx.barabasi_albert_graph(n, m, seed=1, initial_graph=None)\n",
        "rank_barabasi_albert_G = sorted(nx.pagerank(barabasi_albert_G, alpha=0.85, personalization=None, max_iter=100, tol=1e-06, nstart=None, weight='weight', dangling=None).items(), key=lambda x:x[1])"
      ],
      "metadata": {
        "id": "tl3caTUbyjER"
      },
      "execution_count": 14,
      "outputs": []
    },
    {
      "cell_type": "code",
      "source": [
        "rank_barabasi_albert_G[-1]"
      ],
      "metadata": {
        "colab": {
          "base_uri": "https://localhost:8080/"
        },
        "id": "zF9qYMLd1ZqZ",
        "outputId": "fe459bf4-be53-458c-c823-5ff6d9be44c4"
      },
      "execution_count": 15,
      "outputs": [
        {
          "output_type": "execute_result",
          "data": {
            "text/plain": [
              "(11, 0.00041689766748208805)"
            ]
          },
          "metadata": {},
          "execution_count": 15
        }
      ]
    },
    {
      "cell_type": "code",
      "source": [
        "print_graph_info(barabasi_albert_G, False)"
      ],
      "metadata": {
        "colab": {
          "base_uri": "https://localhost:8080/"
        },
        "id": "3afn5MBrzJia",
        "outputId": "a71abb60-6023-43b8-b9b5-3968162f3b55"
      },
      "execution_count": 16,
      "outputs": [
        {
          "output_type": "stream",
          "name": "stdout",
          "text": [
            "Number of nodes: 255265\n",
            "Number of edges: 2297304\n",
            "Average degree: 17.99936536540458\n"
          ]
        }
      ]
    },
    {
      "cell_type": "markdown",
      "metadata": {
        "id": "BlxK42Pi01vN"
      },
      "source": [
        "Compare the PageRank vectors obtained on the generated graphs with the PageRank vector you computed on the original connected component (the largest weakly connected component you attained above).\n",
        "**Sort** the components of each vector by value, and use cosine similarity as similarity measure.\n",
        "\n",
        "Feel free to use any implementation of the cosine similarity available in third-party libraries, or implement your own with ```numpy```."
      ]
    },
    {
      "cell_type": "code",
      "source": [
        "rank_G[-10:]"
      ],
      "metadata": {
        "id": "6BixgjlMRNtT",
        "outputId": "a3b7a9a3-6220-4703-e58e-b3bebd47da5b",
        "colab": {
          "base_uri": "https://localhost:8080/"
        }
      },
      "execution_count": 23,
      "outputs": [
        {
          "output_type": "execute_result",
          "data": {
            "text/plain": [
              "[('186750', 0.00314345200380852),\n",
              " ('234704', 0.0031708863624340614),\n",
              " ('225872', 0.0031736850016296342),\n",
              " ('105607', 0.0032305919516859047),\n",
              " ('67756', 0.003543473943866138),\n",
              " ('69358', 0.003753708143672675),\n",
              " ('134832', 0.00650923773721211),\n",
              " ('241454', 0.009829260884719991),\n",
              " ('226411', 0.010694113250567905),\n",
              " ('89073', 0.011051585882434985)]"
            ]
          },
          "metadata": {},
          "execution_count": 23
        }
      ]
    },
    {
      "cell_type": "code",
      "metadata": {
        "id": "1aUgyeNdUQxs",
        "colab": {
          "base_uri": "https://localhost:8080/"
        },
        "outputId": "c10be410-75ec-43b3-93f0-4be79b094e88"
      },
      "source": [
        "rank_rand_G[-10:]"
      ],
      "execution_count": 18,
      "outputs": [
        {
          "output_type": "execute_result",
          "data": {
            "text/plain": [
              "[(127392, 7.197456973720354e-06),\n",
              " (239691, 7.228833381965614e-06),\n",
              " (70124, 7.268730168861052e-06),\n",
              " (129032, 7.299830669613334e-06),\n",
              " (184745, 7.313541287755495e-06),\n",
              " (144307, 7.323021888645532e-06),\n",
              " (141505, 7.348699650919032e-06),\n",
              " (193475, 7.368176905091742e-06),\n",
              " (14579, 7.3974735409810506e-06),\n",
              " (150787, 7.458986619588909e-06)]"
            ]
          },
          "metadata": {},
          "execution_count": 18
        }
      ]
    },
    {
      "cell_type": "code",
      "source": [
        "rank_barabasi_albert_G[-10:]"
      ],
      "metadata": {
        "colab": {
          "base_uri": "https://localhost:8080/"
        },
        "id": "6MroLY_b47CO",
        "outputId": "44df4afb-bf68-4ef7-ae02-1b8c025a531f"
      },
      "execution_count": 19,
      "outputs": [
        {
          "output_type": "execute_result",
          "data": {
            "text/plain": [
              "[(2, 0.0002820305369954235),\n",
              " (13, 0.0002832139282928614),\n",
              " (33, 0.00028542554346320257),\n",
              " (31, 0.0003024957900994401),\n",
              " (12, 0.0003051642675066239),\n",
              " (0, 0.00031311819116956204),\n",
              " (17, 0.000323435926854125),\n",
              " (10, 0.0003280249659834195),\n",
              " (6, 0.00034052486511954385),\n",
              " (11, 0.00041689766748208805)]"
            ]
          },
          "metadata": {},
          "execution_count": 19
        }
      ]
    },
    {
      "cell_type": "code",
      "source": [
        "G_vec = np.array([x[1] for x in rank_G])\n",
        "rand_vec = np.array([x[1] for x in rank_rand_G])\n",
        "barabasi_albert_vec = np.array([x[1] for x in rank_barabasi_albert_G])"
      ],
      "metadata": {
        "id": "ipw8woRT8rjM"
      },
      "execution_count": 20,
      "outputs": []
    },
    {
      "cell_type": "code",
      "source": [
        "cosine_rand = np.dot(G_vec, rand_vec)/(np.linalg.norm(G_vec)*np.linalg.norm(rand_vec))\n",
        "print(\"Cosine Similarity  between the web-Stanford graph and the random generated graph:\", cosine_rand)"
      ],
      "metadata": {
        "colab": {
          "base_uri": "https://localhost:8080/"
        },
        "id": "p79CHk6C9QYQ",
        "outputId": "6c6e3845-4a23-4bbf-9ce6-a595c16a73d6"
      },
      "execution_count": 21,
      "outputs": [
        {
          "output_type": "stream",
          "name": "stdout",
          "text": [
            "Cosine Similarity  between the web-Stanford graph and the random generated graph: 0.10395564703964394\n"
          ]
        }
      ]
    },
    {
      "cell_type": "code",
      "source": [
        "cosine_BA = np.dot(G_vec,barabasi_albert_vec)/(np.linalg.norm(G_vec)*np.linalg.norm(barabasi_albert_vec))\n",
        "print(\"Cosine Similarity between the web-Stanford graph and the Barabási-Albert graph:\", cosine_BA)"
      ],
      "metadata": {
        "colab": {
          "base_uri": "https://localhost:8080/"
        },
        "id": "capFLc0X9Q72",
        "outputId": "4a7b5a87-1749-4f8c-ee1e-eb213adea297"
      },
      "execution_count": 22,
      "outputs": [
        {
          "output_type": "stream",
          "name": "stdout",
          "text": [
            "Cosine Similarity between the web-Stanford graph and the Barabási-Albert graph: 0.6488673660967239\n"
          ]
        }
      ]
    },
    {
      "cell_type": "markdown",
      "metadata": {
        "id": "SIrXJyVNP2AI"
      },
      "source": [
        "Once you have working code for each cell above, **head over to Gradescope, read carefully the questions, and submit your solution for this Colab**!"
      ]
    }
  ]
}