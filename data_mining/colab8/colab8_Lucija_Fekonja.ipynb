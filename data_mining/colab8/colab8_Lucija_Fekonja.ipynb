{
  "nbformat": 4,
  "nbformat_minor": 0,
  "metadata": {
    "colab": {
      "provenance": []
    },
    "kernelspec": {
      "name": "python3",
      "display_name": "Python 3"
    }
  },
  "cells": [
    {
      "cell_type": "markdown",
      "metadata": {
        "id": "kPt5q27L5557"
      },
      "source": [
        "# CS246 - Colab 8\n",
        "## Bloom Filters"
      ]
    },
    {
      "cell_type": "markdown",
      "metadata": {
        "id": "p0-YhEpP_Ds-"
      },
      "source": [
        "### Setup"
      ]
    },
    {
      "cell_type": "markdown",
      "metadata": {
        "id": "Zsj5WYpR9QId"
      },
      "source": [
        "In this Colab, we need to install a [bloom_filter](https://github.com/hiway/python-bloom-filter), a Python library which offers an implementation of Bloom filters.  Run the cell below!"
      ]
    },
    {
      "cell_type": "code",
      "metadata": {
        "id": "k-qHai2252mI",
        "colab": {
          "base_uri": "https://localhost:8080/"
        },
        "outputId": "45a61dac-5e36-43f4-f88f-5b242fc7b57e"
      },
      "source": [
        "!pip install bloom_filter"
      ],
      "execution_count": 1,
      "outputs": [
        {
          "output_type": "stream",
          "name": "stdout",
          "text": [
            "Collecting bloom_filter\n",
            "  Downloading bloom_filter-1.3.3-py3-none-any.whl (8.1 kB)\n",
            "Installing collected packages: bloom_filter\n",
            "Successfully installed bloom_filter-1.3.3\n"
          ]
        }
      ]
    },
    {
      "cell_type": "markdown",
      "metadata": {
        "id": "kAYRX2PMm0L6"
      },
      "source": [
        "### Data Loading"
      ]
    },
    {
      "cell_type": "markdown",
      "metadata": {
        "id": "XO_IcxgquzhI"
      },
      "source": [
        "From the NLTK (Natural Language ToolKit) library, we import a large list of English dictionary words, commonly used by the very first spell-checking programs in Unix-like operating systems."
      ]
    },
    {
      "cell_type": "code",
      "metadata": {
        "id": "-Xz3f79crEEb",
        "colab": {
          "base_uri": "https://localhost:8080/"
        },
        "outputId": "91ff8b9b-02f0-41bb-8e5b-449c7acdc346"
      },
      "source": [
        "import nltk\n",
        "nltk.download('words')\n",
        "\n",
        "from nltk.corpus import words\n",
        "word_list = words.words()\n",
        "print(f'Dictionary length: {len(word_list)}')\n",
        "print(word_list[:15])"
      ],
      "execution_count": 2,
      "outputs": [
        {
          "output_type": "stream",
          "name": "stderr",
          "text": [
            "[nltk_data] Downloading package words to /root/nltk_data...\n",
            "[nltk_data]   Unzipping corpora/words.zip.\n"
          ]
        },
        {
          "output_type": "stream",
          "name": "stdout",
          "text": [
            "Dictionary length: 236736\n",
            "['A', 'a', 'aa', 'aal', 'aalii', 'aam', 'Aani', 'aardvark', 'aardwolf', 'Aaron', 'Aaronic', 'Aaronical', 'Aaronite', 'Aaronitic', 'Aaru']\n"
          ]
        }
      ]
    },
    {
      "cell_type": "markdown",
      "metadata": {
        "id": "csbQXPUFUMob"
      },
      "source": [
        "Then we load another dataset from the NLTK Corpora collection: ```movie_reviews```.\n",
        "\n",
        "The movie reviews are categorized between *positive* and *negative*, so we construct a list of words (usually called **bag of words**) for each category."
      ]
    },
    {
      "cell_type": "code",
      "metadata": {
        "id": "HwgRhMT1UNUt",
        "colab": {
          "base_uri": "https://localhost:8080/"
        },
        "outputId": "08962dc6-f532-414a-a504-db723822e80d"
      },
      "source": [
        "from nltk.corpus import movie_reviews\n",
        "nltk.download('movie_reviews')\n",
        "\n",
        "neg_reviews = []\n",
        "pos_reviews = []\n",
        "\n",
        "for fileid in movie_reviews.fileids('neg'):\n",
        "  neg_reviews.extend(movie_reviews.words(fileid))\n",
        "for fileid in movie_reviews.fileids('pos'):\n",
        "  pos_reviews.extend(movie_reviews.words(fileid))"
      ],
      "execution_count": 3,
      "outputs": [
        {
          "output_type": "stream",
          "name": "stderr",
          "text": [
            "[nltk_data] Downloading package movie_reviews to /root/nltk_data...\n",
            "[nltk_data]   Unzipping corpora/movie_reviews.zip.\n"
          ]
        }
      ]
    },
    {
      "cell_type": "markdown",
      "metadata": {
        "id": "CRaF2A_j_nC7"
      },
      "source": [
        "### Your task"
      ]
    },
    {
      "cell_type": "markdown",
      "metadata": {
        "id": "mrHJptH3Tb-3"
      },
      "source": [
        "In this Colab, you will develop a very simplistic spell-checker.  By no means you should think of using it for a real-world use case, but it is an interesting exercise to highlight the strenghts and weaknesses of Bloom Filters!"
      ]
    },
    {
      "cell_type": "code",
      "metadata": {
        "id": "bK3WyXaPsa5q"
      },
      "source": [
        "from bloom_filter import BloomFilter\n",
        "\n",
        "word_filter = BloomFilter(max_elements=236736)\n",
        "\n",
        "for word in word_list:\n",
        "  word_filter.add(word)\n",
        "\n",
        "word_set = set(word_list)"
      ],
      "execution_count": 4,
      "outputs": []
    },
    {
      "cell_type": "markdown",
      "metadata": {
        "id": "Ddqg0odiaSRg"
      },
      "source": [
        "If you executed the cell above, you now have 3 different variables in your scope:\n",
        "\n",
        "1.   ```word_list```, a Python list containing the English dictionary (in case insensitive order)\n",
        "2.   ```word_filter```, a Bloom filter where we have already added all the words in the English dictionary\n",
        "3.   ```word_set```, a [Python set](https://docs.python.org/3.6/library/stdtypes.html#set-types-set-frozenset) built from the same list of words in the English dictionary\n",
        "\n",
        "Let's inspect the size of each datastructure using the [getsizeof()](https://docs.python.org/3/library/sys.html#sys.getsizeof) method!\n",
        "\n"
      ]
    },
    {
      "cell_type": "code",
      "metadata": {
        "id": "FVLxu20maRLf",
        "colab": {
          "base_uri": "https://localhost:8080/"
        },
        "outputId": "24a067eb-3d1f-44df-e62e-e433604cc762"
      },
      "source": [
        "from sys import getsizeof\n",
        "\n",
        "print(f'Size of word_list (in bytes): {getsizeof(word_list)}')\n",
        "print(f'Size of word_filter (in bytes): {getsizeof(word_filter)}')\n",
        "print(f'Size of word_set (in bytes): {getsizeof(word_set)}')"
      ],
      "execution_count": 5,
      "outputs": [
        {
          "output_type": "stream",
          "name": "stdout",
          "text": [
            "Size of word_list (in bytes): 2055512\n",
            "Size of word_filter (in bytes): 48\n",
            "Size of word_set (in bytes): 8388824\n"
          ]
        }
      ]
    },
    {
      "cell_type": "markdown",
      "metadata": {
        "id": "WbQzd4czlT3h"
      },
      "source": [
        "You should have noticed how efficient is the Bloom filter in terms of memory footprint!\n",
        "\n",
        "Now let's find out how fast is the main operation for which we construct Bloom filters: *membership testing*. To do so, we will use the ```%timeit``` IPython magic command, which times the repeated execution of a single Python statement."
      ]
    },
    {
      "cell_type": "code",
      "metadata": {
        "id": "xq7I6kJfwXy5",
        "colab": {
          "base_uri": "https://localhost:8080/"
        },
        "outputId": "f04b5bdf-5307-4d9a-c400-e28001349816"
      },
      "source": [
        "%timeit -r 3 \"California\" in word_list\n",
        "%timeit -r 3 \"California\" in word_filter\n",
        "%timeit -r 3 \"California\" in word_set"
      ],
      "execution_count": 23,
      "outputs": [
        {
          "output_type": "stream",
          "name": "stdout",
          "text": [
            "421 µs ± 2.8 µs per loop (mean ± std. dev. of 3 runs, 1000 loops each)\n",
            "16.6 µs ± 2.63 µs per loop (mean ± std. dev. of 3 runs, 100000 loops each)\n",
            "54.2 ns ± 0.457 ns per loop (mean ± std. dev. of 3 runs, 10000000 loops each)\n"
          ]
        }
      ]
    },
    {
      "cell_type": "markdown",
      "metadata": {
        "id": "Qq2LVgEVnI_R"
      },
      "source": [
        "Notice the performance gap between linear search on a list, multiple hash computations in a Bloom filter, and a single hash computation in a native Python ```Set()```.\n",
        "\n",
        "We now have all the building blocks required to build our spell-checker, and we understand the performance tradeoffs of each datastructure we chose. Write a function that takes as arguments (1) a list of words, and (2) any of the 3 dictionary datastructures we constructed. The function must return the number of words which **do not appear** in the dictionary.\n"
      ]
    },
    {
      "cell_type": "code",
      "metadata": {
        "id": "lTT-6rQcnibH"
      },
      "source": [
        "def f(l, d):\n",
        "    count = 0\n",
        "    for word in l:\n",
        "      if word not in d:\n",
        "        count += 1\n",
        "    return count\n",
        "\n",
        "def error(neg_reviews, num_false_words):\n",
        "  return 100 * num_false_words / len(neg_reviews)\n"
      ],
      "execution_count": 7,
      "outputs": []
    },
    {
      "cell_type": "code",
      "source": [
        "%timeit -r 1 f(neg_reviews, word_filter)\n",
        "false_filter = f(neg_reviews, word_filter)\n",
        "error(neg_reviews, false_filter)"
      ],
      "metadata": {
        "id": "SiUz2w0OCuxS",
        "colab": {
          "base_uri": "https://localhost:8080/"
        },
        "outputId": "0aa48329-cb3f-42d4-f889-afe943110f77"
      },
      "execution_count": 21,
      "outputs": [
        {
          "output_type": "stream",
          "name": "stdout",
          "text": [
            "6.46 s ± 0 ns per loop (mean ± std. dev. of 1 run, 1 loop each)\n"
          ]
        },
        {
          "output_type": "execute_result",
          "data": {
            "text/plain": [
              "25.797065181509364"
            ]
          },
          "metadata": {},
          "execution_count": 21
        }
      ]
    },
    {
      "cell_type": "code",
      "source": [
        "%timeit -r 1 f(neg_reviews, word_set)\n",
        "false_set = f(neg_reviews, word_set)\n",
        "error(neg_reviews, false_set)"
      ],
      "metadata": {
        "id": "0Dqn36cmC8dK",
        "colab": {
          "base_uri": "https://localhost:8080/"
        },
        "outputId": "319bee81-0a41-4cfb-b5e7-751ff32beb63"
      },
      "execution_count": 20,
      "outputs": [
        {
          "output_type": "stream",
          "name": "stdout",
          "text": [
            "69.3 ms ± 0 ns per loop (mean ± std. dev. of 1 run, 10 loops each)\n"
          ]
        },
        {
          "output_type": "execute_result",
          "data": {
            "text/plain": [
              "27.98753021606483"
            ]
          },
          "metadata": {},
          "execution_count": 20
        }
      ]
    },
    {
      "cell_type": "markdown",
      "metadata": {
        "id": "SIrXJyVNP2AI"
      },
      "source": [
        "Once you have working code for each cell above, **head over to Gradescope, read carefully the questions, and submit your solution for this Colab**! The error rate should have `len(neg_reviews)` in its denominator. As a sanity check, your answers for 4.2 and 4.4 should be between 20 and 30."
      ]
    }
  ]
}