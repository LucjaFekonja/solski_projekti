{
  "cells": [
    {
      "cell_type": "markdown",
      "metadata": {
        "id": "GTwDFnjHMk25"
      },
      "source": [
        "# CS246 - Homework 1\n",
        "## Question 2\n",
        "\n"
      ]
    },
    {
      "cell_type": "markdown",
      "metadata": {
        "id": "eXQzA01OS_yQ"
      },
      "source": [
        "### Setup"
      ]
    },
    {
      "cell_type": "markdown",
      "metadata": {
        "id": "AbYZoVVWOZA5"
      },
      "source": [
        "Let's setup Spark on your Colab environment.  Run the cell below!"
      ]
    },
    {
      "cell_type": "code",
      "execution_count": null,
      "metadata": {
        "colab": {
          "base_uri": "https://localhost:8080/"
        },
        "id": "dhzk3GE6S9RC",
        "outputId": "48247d7c-8a14-458b-b5e0-b82c8ae8b4c9"
      },
      "outputs": [
        {
          "output_type": "stream",
          "name": "stdout",
          "text": [
            "Collecting pyspark\n",
            "  Downloading pyspark-3.5.0.tar.gz (316.9 MB)\n",
            "\u001b[2K     \u001b[90m━━━━━━━━━━━━━━━━━━━━━━━━━━━━━━━━━━━━━━━━\u001b[0m \u001b[32m316.9/316.9 MB\u001b[0m \u001b[31m2.3 MB/s\u001b[0m eta \u001b[36m0:00:00\u001b[0m\n",
            "\u001b[?25h  Preparing metadata (setup.py) ... \u001b[?25l\u001b[?25hdone\n",
            "Requirement already satisfied: py4j==0.10.9.7 in /usr/local/lib/python3.10/dist-packages (from pyspark) (0.10.9.7)\n",
            "Building wheels for collected packages: pyspark\n",
            "  Building wheel for pyspark (setup.py) ... \u001b[?25l\u001b[?25hdone\n",
            "  Created wheel for pyspark: filename=pyspark-3.5.0-py2.py3-none-any.whl size=317425345 sha256=638cedd33e33237a7dc6d979ff3591d12486ac4bc2cba021fe64ecc8323684fe\n",
            "  Stored in directory: /root/.cache/pip/wheels/41/4e/10/c2cf2467f71c678cfc8a6b9ac9241e5e44a01940da8fbb17fc\n",
            "Successfully built pyspark\n",
            "Installing collected packages: pyspark\n",
            "Successfully installed pyspark-3.5.0\n",
            "\u001b[2K     \u001b[90m━━━━━━━━━━━━━━━━━━━━━━━━━━━━━━━━━━━━━━━━\u001b[0m \u001b[32m46.7/46.7 kB\u001b[0m \u001b[31m1.5 MB/s\u001b[0m eta \u001b[36m0:00:00\u001b[0m\n",
            "\u001b[?25hThe following additional packages will be installed:\n",
            "  libxtst6 openjdk-8-jre-headless\n",
            "Suggested packages:\n",
            "  openjdk-8-demo openjdk-8-source libnss-mdns fonts-dejavu-extra fonts-nanum fonts-ipafont-gothic\n",
            "  fonts-ipafont-mincho fonts-wqy-microhei fonts-wqy-zenhei fonts-indic\n",
            "The following NEW packages will be installed:\n",
            "  libxtst6 openjdk-8-jdk-headless openjdk-8-jre-headless\n",
            "0 upgraded, 3 newly installed, 0 to remove and 30 not upgraded.\n",
            "Need to get 39.7 MB of archives.\n",
            "After this operation, 144 MB of additional disk space will be used.\n",
            "Selecting previously unselected package libxtst6:amd64.\n",
            "(Reading database ... 121671 files and directories currently installed.)\n",
            "Preparing to unpack .../libxtst6_2%3a1.2.3-1build4_amd64.deb ...\n",
            "Unpacking libxtst6:amd64 (2:1.2.3-1build4) ...\n",
            "Selecting previously unselected package openjdk-8-jre-headless:amd64.\n",
            "Preparing to unpack .../openjdk-8-jre-headless_8u392-ga-1~22.04_amd64.deb ...\n",
            "Unpacking openjdk-8-jre-headless:amd64 (8u392-ga-1~22.04) ...\n",
            "Selecting previously unselected package openjdk-8-jdk-headless:amd64.\n",
            "Preparing to unpack .../openjdk-8-jdk-headless_8u392-ga-1~22.04_amd64.deb ...\n",
            "Unpacking openjdk-8-jdk-headless:amd64 (8u392-ga-1~22.04) ...\n",
            "Setting up libxtst6:amd64 (2:1.2.3-1build4) ...\n",
            "Setting up openjdk-8-jre-headless:amd64 (8u392-ga-1~22.04) ...\n",
            "update-alternatives: using /usr/lib/jvm/java-8-openjdk-amd64/jre/bin/orbd to provide /usr/bin/orbd (orbd) in auto mode\n",
            "update-alternatives: using /usr/lib/jvm/java-8-openjdk-amd64/jre/bin/servertool to provide /usr/bin/servertool (servertool) in auto mode\n",
            "update-alternatives: using /usr/lib/jvm/java-8-openjdk-amd64/jre/bin/tnameserv to provide /usr/bin/tnameserv (tnameserv) in auto mode\n",
            "Setting up openjdk-8-jdk-headless:amd64 (8u392-ga-1~22.04) ...\n",
            "update-alternatives: using /usr/lib/jvm/java-8-openjdk-amd64/bin/clhsdb to provide /usr/bin/clhsdb (clhsdb) in auto mode\n",
            "update-alternatives: using /usr/lib/jvm/java-8-openjdk-amd64/bin/extcheck to provide /usr/bin/extcheck (extcheck) in auto mode\n",
            "update-alternatives: using /usr/lib/jvm/java-8-openjdk-amd64/bin/hsdb to provide /usr/bin/hsdb (hsdb) in auto mode\n",
            "update-alternatives: using /usr/lib/jvm/java-8-openjdk-amd64/bin/idlj to provide /usr/bin/idlj (idlj) in auto mode\n",
            "update-alternatives: using /usr/lib/jvm/java-8-openjdk-amd64/bin/javah to provide /usr/bin/javah (javah) in auto mode\n",
            "update-alternatives: using /usr/lib/jvm/java-8-openjdk-amd64/bin/jhat to provide /usr/bin/jhat (jhat) in auto mode\n",
            "update-alternatives: using /usr/lib/jvm/java-8-openjdk-amd64/bin/jsadebugd to provide /usr/bin/jsadebugd (jsadebugd) in auto mode\n",
            "update-alternatives: using /usr/lib/jvm/java-8-openjdk-amd64/bin/native2ascii to provide /usr/bin/native2ascii (native2ascii) in auto mode\n",
            "update-alternatives: using /usr/lib/jvm/java-8-openjdk-amd64/bin/schemagen to provide /usr/bin/schemagen (schemagen) in auto mode\n",
            "update-alternatives: using /usr/lib/jvm/java-8-openjdk-amd64/bin/wsgen to provide /usr/bin/wsgen (wsgen) in auto mode\n",
            "update-alternatives: using /usr/lib/jvm/java-8-openjdk-amd64/bin/wsimport to provide /usr/bin/wsimport (wsimport) in auto mode\n",
            "update-alternatives: using /usr/lib/jvm/java-8-openjdk-amd64/bin/xjc to provide /usr/bin/xjc (xjc) in auto mode\n",
            "Processing triggers for libc-bin (2.35-0ubuntu3.4) ...\n"
          ]
        }
      ],
      "source": [
        "!pip install pyspark\n",
        "!pip install -U -q PyDrive2\n",
        "#the output 'xxx is not a symbolic link' will not affect your implementation or execution\n",
        "#to fix 'xxx is not a symbolic link', you can uncomment the lines starting from !mv xxxx\n",
        "#you may need to replace xxx.11 with the correct version if other errors come up after colab update\n",
        "#to get the correct version, use !ls /usr/local/lib to find out\n",
        "!mv /usr/local/lib/libtbbmalloc_proxy.so.2 /usr/local/lib/libtbbmalloc_proxy.so.2.backup\n",
        "!mv /usr/local/lib/libtbbmalloc.so.2 /usr/local/lib/libtbbmalloc.so.2.backup\n",
        "!mv /usr/local/lib/libtbbbind_2_5.so.3 /usr/local/lib/libtbbbind_2_5.so.3.backup\n",
        "!mv /usr/local/lib/libtbb.so.12 /usr/local/lib/libtbb.so.12.backup\n",
        "!mv /usr/local/lib/libtbbbind_2_0.so.3 /usr/local/lib/libtbbbind_2_0.so.3.backup\n",
        "!mv /usr/local/lib/libtbbbind.so.3 /usr/local/lib/libtbbbind.so.3.backup\n",
        "!ln -s /usr/local/lib/libtbbmalloc_proxy.so.2.11 /usr/local/lib/libtbbmalloc_proxy.so.2\n",
        "!ln -s /usr/local/lib/libtbbmalloc.so.2.11 /usr/local/lib/libtbbmalloc.so.2\n",
        "!ln -s /usr/local/lib/libtbbbind_2_5.so.3.11 /usr/local/lib/libtbbbind_2_5.so.3\n",
        "!ln -s /usr/local/lib/libtbb.so.12.11 /usr/local/lib/libtbb.so.12\n",
        "!ln -s /usr/local/lib/libtbbbind_2_0.so.3.11 /usr/local/lib/libtbbbind_2_0.so.3\n",
        "!ln -s /usr/local/lib/libtbbbind.so.3.11 /usr/local/lib/libtbbbind.so.3\n",
        "#If error related to the above execution occurs, you can try commenting out the above 12 lines under pip install PyDrive2 (not included)\n",
        "\n",
        "# !sudo ldconfig\n",
        "!apt install openjdk-8-jdk-headless -qq\n",
        "import os\n",
        "os.environ[\"JAVA_HOME\"] = \"/usr/lib/jvm/java-8-openjdk-amd64\"\n"
      ]
    },
    {
      "cell_type": "markdown",
      "metadata": {
        "id": "ctU1dYjfOif7"
      },
      "source": [
        "Now we authenticate a Google Drive client to download the file we will be processing in our Spark job.\n",
        "\n",
        "**Make sure to follow the interactive instructions.**"
      ]
    },
    {
      "cell_type": "code",
      "execution_count": null,
      "metadata": {
        "id": "1dfnX7IAOkvH"
      },
      "outputs": [],
      "source": [
        "from pydrive2.auth import GoogleAuth\n",
        "from pydrive2.drive import GoogleDrive\n",
        "from google.colab import auth\n",
        "from oauth2client.client import GoogleCredentials\n",
        "\n",
        "# Authenticate and create the PyDrive client\n",
        "auth.authenticate_user()\n",
        "gauth = GoogleAuth()\n",
        "gauth.credentials = GoogleCredentials.get_application_default()\n",
        "drive = GoogleDrive(gauth)"
      ]
    },
    {
      "cell_type": "code",
      "execution_count": null,
      "metadata": {
        "id": "DrVS1zQZlizf"
      },
      "outputs": [],
      "source": [
        "id='1sA1pnEs5gWb-yjW-3RRfpn_cE0V2LXet'\n",
        "downloaded = drive.CreateFile({'id': id})\n",
        "downloaded.GetContentFile('browsing.txt')"
      ]
    },
    {
      "cell_type": "code",
      "execution_count": null,
      "metadata": {
        "id": "xgQaRx6rSaf9"
      },
      "outputs": [],
      "source": [
        "# Let's import the libraries we will need\n",
        "import pandas as pd\n",
        "import numpy as np\n",
        "import matplotlib.pyplot as plt\n",
        "%matplotlib inline\n",
        "\n",
        "import pyspark\n",
        "from pyspark.sql import *\n",
        "from pyspark.sql.functions import *\n",
        "from pyspark import SparkContext, SparkConf"
      ]
    },
    {
      "cell_type": "markdown",
      "metadata": {
        "id": "uUD5XpD_SagA"
      },
      "source": [
        "Let's initialize the Spark context.\n"
      ]
    },
    {
      "cell_type": "code",
      "execution_count": null,
      "metadata": {
        "id": "7ft3VivrSagB"
      },
      "outputs": [],
      "source": [
        "# create the Spark Session\n",
        "spark = SparkSession.builder.getOrCreate()\n",
        "\n",
        "# create the Spark Context\n",
        "sc = spark.sparkContext"
      ]
    },
    {
      "cell_type": "markdown",
      "metadata": {
        "id": "-n20ixkgSagD"
      },
      "source": [
        "You can easily check the current version and get the link of the web interface. In the Spark UI, you can monitor the progress of your job and debug the performance bottlenecks (if your Colab is running with a **local runtime**)."
      ]
    },
    {
      "cell_type": "code",
      "execution_count": null,
      "metadata": {
        "colab": {
          "base_uri": "https://localhost:8080/",
          "height": 219
        },
        "id": "Fl4RHbqFSagE",
        "outputId": "13d99252-26de-4c4e-f8b9-59b71db42994"
      },
      "outputs": [
        {
          "output_type": "execute_result",
          "data": {
            "text/plain": [
              "<pyspark.sql.session.SparkSession at 0x7d1629fe48b0>"
            ],
            "text/html": [
              "\n",
              "            <div>\n",
              "                <p><b>SparkSession - in-memory</b></p>\n",
              "                \n",
              "        <div>\n",
              "            <p><b>SparkContext</b></p>\n",
              "\n",
              "            <p><a href=\"http://c474759a5aa2:4040\">Spark UI</a></p>\n",
              "\n",
              "            <dl>\n",
              "              <dt>Version</dt>\n",
              "                <dd><code>v3.5.0</code></dd>\n",
              "              <dt>Master</dt>\n",
              "                <dd><code>local[*]</code></dd>\n",
              "              <dt>AppName</dt>\n",
              "                <dd><code>pyspark-shell</code></dd>\n",
              "            </dl>\n",
              "        </div>\n",
              "        \n",
              "            </div>\n",
              "        "
            ]
          },
          "metadata": {},
          "execution_count": 6
        }
      ],
      "source": [
        "spark"
      ]
    },
    {
      "cell_type": "markdown",
      "metadata": {
        "id": "jzaaOT3OF-_j"
      },
      "source": [
        "# Question 2"
      ]
    },
    {
      "cell_type": "code",
      "execution_count": null,
      "metadata": {
        "id": "cx05M2svGh2S"
      },
      "outputs": [],
      "source": [
        "txt2 = spark.read.text(\"browsing.txt\")"
      ]
    },
    {
      "cell_type": "code",
      "execution_count": null,
      "metadata": {
        "id": "51SXY6s8p3df"
      },
      "outputs": [],
      "source": [
        "# Split the lines into lists of items\n",
        "data = txt2.select(array_distinct(split(col(\"value\"), \" \")).alias(\"items\"))\\\n",
        "          .withColumn(\"id\", monotonically_increasing_id())"
      ]
    },
    {
      "cell_type": "code",
      "source": [
        "df = data.select(\"id\", slice(\"items\", 1, size(\"items\") - 1).alias(\"items\"))"
      ],
      "metadata": {
        "id": "kuEL_bucCLGj"
      },
      "execution_count": null,
      "outputs": []
    },
    {
      "cell_type": "code",
      "source": [
        "df.show(truncate=False)"
      ],
      "metadata": {
        "colab": {
          "base_uri": "https://localhost:8080/"
        },
        "id": "j7B1BoUsAXH0",
        "outputId": "68041dfa-d0f5-43b0-bb60-b3d68f435783"
      },
      "execution_count": null,
      "outputs": [
        {
          "output_type": "stream",
          "name": "stdout",
          "text": [
            "+---+----------------------------------------------------------------------------------------------------------------------------------------------------------------------------------------------+\n",
            "|id |items                                                                                                                                                                                         |\n",
            "+---+----------------------------------------------------------------------------------------------------------------------------------------------------------------------------------------------+\n",
            "|0  |[FRO11987, ELE17451, ELE89019, SNA90258, GRO99222]                                                                                                                                            |\n",
            "|1  |[GRO99222, GRO12298, FRO12685, ELE91550, SNA11465, ELE26917, ELE52966, FRO90334, SNA30755, ELE17451, FRO84225, SNA80192]                                                                      |\n",
            "|2  |[ELE17451, GRO73461, DAI22896, SNA99873, FRO86643]                                                                                                                                            |\n",
            "|3  |[ELE17451, ELE37798, FRO86643, GRO56989, ELE23393, SNA11465]                                                                                                                                  |\n",
            "|4  |[ELE17451, SNA69641, FRO86643, FRO78087, SNA11465, GRO39357, ELE28573, ELE11375, DAI54444]                                                                                                    |\n",
            "|5  |[ELE17451, GRO73461, DAI22896, SNA99873, FRO18919, DAI50921, SNA80192, GRO75578]                                                                                                              |\n",
            "|6  |[ELE17451, ELE59935, FRO18919, ELE23393, SNA80192, SNA85662, SNA91554, DAI22177]                                                                                                              |\n",
            "|7  |[ELE17451, SNA69641, FRO18919, SNA90258, ELE28573, ELE11375, DAI14125, FRO78087]                                                                                                              |\n",
            "|8  |[ELE17451, GRO73461, DAI22896, SNA80192, SNA85662, SNA90258, DAI46755, FRO81176, ELE66810, DAI49199, DAI91535, GRO94758, ELE94711, DAI22177]                                                  |\n",
            "|9  |[ELE17451, SNA69641, DAI91535, GRO94758, GRO99222, FRO76833, FRO81176, SNA80192, DAI54690, ELE37798, GRO56989]                                                                                |\n",
            "|10 |[ELE17451, GRO73461, DAI22896, GRO99222, SNA47306, GRO36567, ELE82555, SNA17715, SNA94781, DAI87514, GRO48282, GRO12935, SNA55952, DAI93692, DAI92253, FRO82427, ELE26917, DAI22177]          |\n",
            "|11 |[GRO99222, DAI48891, GRO36567, ELE82555, SNA17715, SNA94781, DAI87514, SNA55952, DAI93692, GRO12935, GRO48282, DAI92253, FRO82427, ELE17451, ELE37798, GRO56989]                              |\n",
            "|12 |[ELE28573, ELE11375, ELE27376, FRO78087]                                                                                                                                                      |\n",
            "|13 |[ELE17451, GRO73461, DAI22896, SNA99873, FRO47475, FRO18919, SNA90258, GRO75578, FRO78087, GRO39357, DAI17810, FRO17376, DAI38969, DAI50913]                                                  |\n",
            "|14 |[DAI22896, FRO47475, FRO18919, SNA90258, ELE11111, FRO86643, ELE26917, GRO99222, DAI22177]                                                                                                    |\n",
            "|15 |[ELE17451, ELE59935, SNA66979, FRO92261, FRO47475, FRO76487, FRO86643, GRO39369, FRO78087, GRO22575, GRO39357, GRO48971, FRO32293]                                                            |\n",
            "|16 |[ELE17451, FRO98729, FRO18919, SNA90258, ELE11111, FRO86643, ELE26917, GRO99222]                                                                                                              |\n",
            "|17 |[GRO39369, DAI95741, FRO78087, GRO39357, GRO75578, FRO86643, SNA11465, ELE17451, ELE37798, GRO56989]                                                                                          |\n",
            "|18 |[ELE28573, ELE11375, DAI44355, FRO78087]                                                                                                                                                      |\n",
            "|19 |[ELE17451, GRO73461, DAI22896, SNA80192, SNA47306, GRO36567, FRO75418, FRO70974, GRO49037, GRO30386, FRO41069, ELE96863, FRO16142, ELE52446, SNA91554, GRO99222, DAI88808, FRO18919, SNA90258]|\n",
            "+---+----------------------------------------------------------------------------------------------------------------------------------------------------------------------------------------------+\n",
            "only showing top 20 rows\n",
            "\n"
          ]
        }
      ]
    },
    {
      "cell_type": "code",
      "source": [
        "c = data.count()"
      ],
      "metadata": {
        "id": "UxsgFOvUAcrz"
      },
      "execution_count": null,
      "outputs": []
    },
    {
      "cell_type": "code",
      "source": [
        "from pyspark.ml.fpm import FPGrowth\n",
        "fpGrowth = FPGrowth(itemsCol=\"items\", minSupport = 100/c)\n",
        "model = fpGrowth.fit(df)"
      ],
      "metadata": {
        "id": "EGHvfYJP8RCh"
      },
      "execution_count": null,
      "outputs": []
    },
    {
      "cell_type": "code",
      "source": [
        "association_rules_2 = model.associationRules\\\n",
        "                           .filter(size(\"antecedent\") == 1)\\\n",
        "                           .filter(size(\"consequent\") == 1)\\\n",
        "                           .orderBy(\"antecedent\", ascending=True)\\\n",
        "                           .orderBy(\"confidence\", ascending=False)"
      ],
      "metadata": {
        "id": "IaTJyW-Q-gGj"
      },
      "execution_count": null,
      "outputs": []
    },
    {
      "cell_type": "code",
      "source": [
        "association_rules_2.take(5)"
      ],
      "metadata": {
        "colab": {
          "base_uri": "https://localhost:8080/"
        },
        "id": "_59nWuY0DVjk",
        "outputId": "2e4c4c80-8b1b-47cf-c261-2cc52000d889"
      },
      "execution_count": null,
      "outputs": [
        {
          "output_type": "execute_result",
          "data": {
            "text/plain": [
              "[Row(antecedent=['DAI93865'], consequent=['FRO40251'], confidence=1.0, lift=8.013656274156146, support=0.006687887849265297),\n",
              " Row(antecedent=['GRO85051'], consequent=['FRO40251'], confidence=0.999176276771005, lift=8.00705523933394, support=0.039001961351725026),\n",
              " Row(antecedent=['GRO38636'], consequent=['FRO40251'], confidence=0.9906542056074766, lift=7.938762290285528, support=0.0034082505385678915),\n",
              " Row(antecedent=['ELE12951'], consequent=['FRO40251'], confidence=0.9905660377358491, lift=7.93805574326788, support=0.00337609723160027),\n",
              " Row(antecedent=['DAI88079'], consequent=['FRO40251'], confidence=0.9867256637168141, lift=7.907280305915135, support=0.014340374907559243)]"
            ]
          },
          "metadata": {},
          "execution_count": 62
        }
      ]
    },
    {
      "cell_type": "code",
      "source": [
        "def smaller_lexicographic_element(arr):\n",
        "    return sorted(arr)[0] if arr else None\n",
        "\n",
        "association_rules_3 = model.associationRules\\\n",
        "                           .filter(size(\"antecedent\") == 2)\\\n",
        "                           .filter(size(\"consequent\") == 1)\\\n",
        "                           .orderBy(\"consequent\", ascending=True)\\\n",
        "                           .orderBy(col(\"antecedent\").getItem(1), ascending=True)\\\n",
        "                           .orderBy(col(\"antecedent\").getItem(0), ascending=True)\\\n",
        "                           .orderBy(\"confidence\", ascending=False)"
      ],
      "metadata": {
        "id": "uJ1bHNDL_wKt"
      },
      "execution_count": null,
      "outputs": []
    },
    {
      "cell_type": "code",
      "source": [
        "association_rules_3.show()"
      ],
      "metadata": {
        "colab": {
          "base_uri": "https://localhost:8080/"
        },
        "id": "n6wf0SLNDiwg",
        "outputId": "3326a3fb-22c6-4ccc-d501-9f3ad9ff8929"
      },
      "execution_count": null,
      "outputs": [
        {
          "output_type": "stream",
          "name": "stdout",
          "text": [
            "+--------------------+----------+------------------+-----------------+--------------------+\n",
            "|          antecedent|consequent|        confidence|             lift|             support|\n",
            "+--------------------+----------+------------------+-----------------+--------------------+\n",
            "|[ELE20847, GRO85051]|[FRO40251]|               1.0|8.013656274156146|0.004469309668499...|\n",
            "|[GRO85051, GRO38814]|[FRO40251]|               1.0|8.013656274156146|0.003697630301276...|\n",
            "|[DAI23334, ELE92920]|[DAI62779]|               1.0|4.664916754162292|0.004597922896369...|\n",
            "|[GRO85051, FRO53271]|[FRO40251]|               1.0|8.013656274156146| 0.00337609723160027|\n",
            "|[GRO85051, GRO21487]|[FRO40251]|               1.0|8.013656274156146|0.003858396836114...|\n",
            "|[GRO85051, SNA80324]|[FRO40251]|               1.0|8.013656274156146|0.015144207581749784|\n",
            "|[GRO85051, GRO73461]|[FRO40251]|               1.0|8.013656274156146|0.004726536124240378|\n",
            "|[GRO85051, DAI31081]|[FRO40251]|               1.0|8.013656274156146|0.003279637310697405|\n",
            "|[ELE20847, FRO92469]|[FRO40251]|               1.0|8.013656274156146|0.003922703450049837|\n",
            "|[GRO85051, ELE17451]|[FRO40251]|               1.0|8.013656274156146|0.006977267611973891|\n",
            "|[DAI88079, DAI62779]|[FRO40251]|               1.0|8.013656274156146|0.003761936915211...|\n",
            "|[GRO85051, SNA45677]|[FRO40251]|               1.0|8.013656274156146|0.003440403845535...|\n",
            "|[GRO85051, DAI75645]|[FRO40251]|               1.0|8.013656274156146| 0.01270055625221054|\n",
            "|[DAI55911, GRO85051]|[FRO40251]|               1.0|8.013656274156146|0.004276389826693...|\n",
            "|[GRO85051, ELE26917]|[FRO40251]|               1.0|8.013656274156146|0.004694382817272757|\n",
            "|[GRO85051, DAI62779]|[FRO40251]|0.9973821989528796|7.992678116370397|0.012250409954663838|\n",
            "|[DAI88079, DAI75645]|[FRO40251]|0.9932885906040269|7.959873346141675|   0.004758689431208|\n",
            "|[DAI88079, GRO73461]|[FRO40251]| 0.993103448275862|7.958389679161965|0.004630076203337513|\n",
            "|[DAI88079, ELE17451]|[FRO40251]|0.9919354838709677|7.949030013880693| 0.00395485675701746|\n",
            "|[FRO92469, GRO73461]|[FRO40251]|0.9906103286384976|7.938410675337778|0.006784347770168...|\n",
            "+--------------------+----------+------------------+-----------------+--------------------+\n",
            "only showing top 20 rows\n",
            "\n"
          ]
        }
      ]
    }
  ],
  "metadata": {
    "colab": {
      "machine_shape": "hm",
      "provenance": []
    },
    "kernelspec": {
      "display_name": "Python 3",
      "language": "python",
      "name": "python3"
    },
    "language_info": {
      "codemirror_mode": {
        "name": "ipython",
        "version": 3
      },
      "file_extension": ".py",
      "mimetype": "text/x-python",
      "name": "python",
      "nbconvert_exporter": "python",
      "pygments_lexer": "ipython3",
      "version": "3.7.3"
    }
  },
  "nbformat": 4,
  "nbformat_minor": 0
}