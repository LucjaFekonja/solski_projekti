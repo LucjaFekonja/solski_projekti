{
  "nbformat": 4,
  "nbformat_minor": 0,
  "metadata": {
    "colab": {
      "provenance": [],
      "machine_shape": "hm"
    },
    "kernelspec": {
      "name": "python3",
      "display_name": "Python 3"
    }
  },
  "cells": [
    {
      "cell_type": "markdown",
      "metadata": {
        "id": "kPt5q27L5557"
      },
      "source": [
        "# CS246 - Colab 6\n",
        "## node2vec"
      ]
    },
    {
      "cell_type": "markdown",
      "metadata": {
        "id": "p0-YhEpP_Ds-"
      },
      "source": [
        "### Setup"
      ]
    },
    {
      "cell_type": "markdown",
      "metadata": {
        "id": "82kmj9fIVlq0"
      },
      "source": [
        "First of all, we install the [graph2vec library](https://github.com/VHRanger/graph2vec) which offers a fast implementation of the node2vec method.\n",
        "\n",
        "If you are curious to learn how to implement fast random walks on graphs, I recommend you to [read the blog post](https://www.singlelunch.com/2019/08/01/700x-faster-node2vec-models-fastest-random-walks-on-a-graph/) which explains some of the design choices behind this library."
      ]
    },
    {
      "cell_type": "code",
      "source": [
        "!python -m pip install 'csrgraph @ git+https://github.com/VHRanger/CSRGraph@f052c1cf128ab21d21a4710337dc7c1cd5658df7'\n",
        "!python -m pip install 'nodevectors @ git+https://github.com/aman0456/nodevectors@67e9af0506236be9aae6d460e96d4dec6329bcd2'"
      ],
      "metadata": {
        "id": "5XivxOcOKLvQ",
        "colab": {
          "base_uri": "https://localhost:8080/"
        },
        "outputId": "fa7440bb-d932-4f85-b367-3540dffb1012"
      },
      "execution_count": 1,
      "outputs": [
        {
          "output_type": "stream",
          "name": "stdout",
          "text": [
            "Collecting csrgraph@ git+https://github.com/VHRanger/CSRGraph@f052c1cf128ab21d21a4710337dc7c1cd5658df7\n",
            "  Cloning https://github.com/VHRanger/CSRGraph (to revision f052c1cf128ab21d21a4710337dc7c1cd5658df7) to /tmp/pip-install-rk0klnez/csrgraph_f744cf60663b4142b0446c8bd453172e\n",
            "  Running command git clone --filter=blob:none --quiet https://github.com/VHRanger/CSRGraph /tmp/pip-install-rk0klnez/csrgraph_f744cf60663b4142b0446c8bd453172e\n",
            "  Running command git rev-parse -q --verify 'sha^f052c1cf128ab21d21a4710337dc7c1cd5658df7'\n",
            "  Running command git fetch -q https://github.com/VHRanger/CSRGraph f052c1cf128ab21d21a4710337dc7c1cd5658df7\n",
            "  Running command git checkout -q f052c1cf128ab21d21a4710337dc7c1cd5658df7\n",
            "  Resolved https://github.com/VHRanger/CSRGraph to commit f052c1cf128ab21d21a4710337dc7c1cd5658df7\n",
            "  Preparing metadata (setup.py) ... \u001b[?25l\u001b[?25hdone\n",
            "Requirement already satisfied: networkx in /usr/local/lib/python3.10/dist-packages (from csrgraph@ git+https://github.com/VHRanger/CSRGraph@f052c1cf128ab21d21a4710337dc7c1cd5658df7) (3.2.1)\n",
            "Requirement already satisfied: numba in /usr/local/lib/python3.10/dist-packages (from csrgraph@ git+https://github.com/VHRanger/CSRGraph@f052c1cf128ab21d21a4710337dc7c1cd5658df7) (0.58.1)\n",
            "Requirement already satisfied: numpy in /usr/local/lib/python3.10/dist-packages (from csrgraph@ git+https://github.com/VHRanger/CSRGraph@f052c1cf128ab21d21a4710337dc7c1cd5658df7) (1.25.2)\n",
            "Requirement already satisfied: pandas in /usr/local/lib/python3.10/dist-packages (from csrgraph@ git+https://github.com/VHRanger/CSRGraph@f052c1cf128ab21d21a4710337dc7c1cd5658df7) (1.5.3)\n",
            "Requirement already satisfied: scipy in /usr/local/lib/python3.10/dist-packages (from csrgraph@ git+https://github.com/VHRanger/CSRGraph@f052c1cf128ab21d21a4710337dc7c1cd5658df7) (1.11.4)\n",
            "Requirement already satisfied: scikit-learn in /usr/local/lib/python3.10/dist-packages (from csrgraph@ git+https://github.com/VHRanger/CSRGraph@f052c1cf128ab21d21a4710337dc7c1cd5658df7) (1.2.2)\n",
            "Requirement already satisfied: tqdm in /usr/local/lib/python3.10/dist-packages (from csrgraph@ git+https://github.com/VHRanger/CSRGraph@f052c1cf128ab21d21a4710337dc7c1cd5658df7) (4.66.2)\n",
            "Requirement already satisfied: llvmlite<0.42,>=0.41.0dev0 in /usr/local/lib/python3.10/dist-packages (from numba->csrgraph@ git+https://github.com/VHRanger/CSRGraph@f052c1cf128ab21d21a4710337dc7c1cd5658df7) (0.41.1)\n",
            "Requirement already satisfied: python-dateutil>=2.8.1 in /usr/local/lib/python3.10/dist-packages (from pandas->csrgraph@ git+https://github.com/VHRanger/CSRGraph@f052c1cf128ab21d21a4710337dc7c1cd5658df7) (2.8.2)\n",
            "Requirement already satisfied: pytz>=2020.1 in /usr/local/lib/python3.10/dist-packages (from pandas->csrgraph@ git+https://github.com/VHRanger/CSRGraph@f052c1cf128ab21d21a4710337dc7c1cd5658df7) (2023.4)\n",
            "Requirement already satisfied: joblib>=1.1.1 in /usr/local/lib/python3.10/dist-packages (from scikit-learn->csrgraph@ git+https://github.com/VHRanger/CSRGraph@f052c1cf128ab21d21a4710337dc7c1cd5658df7) (1.3.2)\n",
            "Requirement already satisfied: threadpoolctl>=2.0.0 in /usr/local/lib/python3.10/dist-packages (from scikit-learn->csrgraph@ git+https://github.com/VHRanger/CSRGraph@f052c1cf128ab21d21a4710337dc7c1cd5658df7) (3.3.0)\n",
            "Requirement already satisfied: six>=1.5 in /usr/local/lib/python3.10/dist-packages (from python-dateutil>=2.8.1->pandas->csrgraph@ git+https://github.com/VHRanger/CSRGraph@f052c1cf128ab21d21a4710337dc7c1cd5658df7) (1.16.0)\n",
            "Building wheels for collected packages: csrgraph\n",
            "  Building wheel for csrgraph (setup.py) ... \u001b[?25l\u001b[?25hdone\n",
            "  Created wheel for csrgraph: filename=csrgraph-0.1.29-py3-none-any.whl size=19402 sha256=7a0ca036001ca980458a13f8f04c1c6e0fbb28956c2ddf7366c9749eef5c7efa\n",
            "  Stored in directory: /root/.cache/pip/wheels/9b/b2/53/46e2e64492e0bdfaab6d5eb9d1c147dcaa8f883bca0613fba7\n",
            "Successfully built csrgraph\n",
            "Installing collected packages: csrgraph\n",
            "Successfully installed csrgraph-0.1.29\n",
            "Collecting nodevectors@ git+https://github.com/aman0456/nodevectors@67e9af0506236be9aae6d460e96d4dec6329bcd2\n",
            "  Cloning https://github.com/aman0456/nodevectors (to revision 67e9af0506236be9aae6d460e96d4dec6329bcd2) to /tmp/pip-install-3o944up2/nodevectors_5575a6878d1145638f0d1642226ea6a4\n",
            "  Running command git clone --filter=blob:none --quiet https://github.com/aman0456/nodevectors /tmp/pip-install-3o944up2/nodevectors_5575a6878d1145638f0d1642226ea6a4\n",
            "  Running command git rev-parse -q --verify 'sha^67e9af0506236be9aae6d460e96d4dec6329bcd2'\n",
            "  Running command git fetch -q https://github.com/aman0456/nodevectors 67e9af0506236be9aae6d460e96d4dec6329bcd2\n",
            "  Running command git checkout -q 67e9af0506236be9aae6d460e96d4dec6329bcd2\n",
            "  Resolved https://github.com/aman0456/nodevectors to commit 67e9af0506236be9aae6d460e96d4dec6329bcd2\n",
            "  Preparing metadata (setup.py) ... \u001b[?25l\u001b[?25hdone\n",
            "Requirement already satisfied: csrgraph in /usr/local/lib/python3.10/dist-packages (from nodevectors@ git+https://github.com/aman0456/nodevectors@67e9af0506236be9aae6d460e96d4dec6329bcd2) (0.1.29)\n",
            "Requirement already satisfied: gensim in /usr/local/lib/python3.10/dist-packages (from nodevectors@ git+https://github.com/aman0456/nodevectors@67e9af0506236be9aae6d460e96d4dec6329bcd2) (4.3.2)\n",
            "Requirement already satisfied: networkx in /usr/local/lib/python3.10/dist-packages (from nodevectors@ git+https://github.com/aman0456/nodevectors@67e9af0506236be9aae6d460e96d4dec6329bcd2) (3.2.1)\n",
            "Requirement already satisfied: numba in /usr/local/lib/python3.10/dist-packages (from nodevectors@ git+https://github.com/aman0456/nodevectors@67e9af0506236be9aae6d460e96d4dec6329bcd2) (0.58.1)\n",
            "Requirement already satisfied: numpy in /usr/local/lib/python3.10/dist-packages (from nodevectors@ git+https://github.com/aman0456/nodevectors@67e9af0506236be9aae6d460e96d4dec6329bcd2) (1.25.2)\n",
            "Requirement already satisfied: pandas>=1.0 in /usr/local/lib/python3.10/dist-packages (from nodevectors@ git+https://github.com/aman0456/nodevectors@67e9af0506236be9aae6d460e96d4dec6329bcd2) (1.5.3)\n",
            "Requirement already satisfied: scipy in /usr/local/lib/python3.10/dist-packages (from nodevectors@ git+https://github.com/aman0456/nodevectors@67e9af0506236be9aae6d460e96d4dec6329bcd2) (1.11.4)\n",
            "Requirement already satisfied: scikit-learn in /usr/local/lib/python3.10/dist-packages (from nodevectors@ git+https://github.com/aman0456/nodevectors@67e9af0506236be9aae6d460e96d4dec6329bcd2) (1.2.2)\n",
            "Requirement already satisfied: python-dateutil>=2.8.1 in /usr/local/lib/python3.10/dist-packages (from pandas>=1.0->nodevectors@ git+https://github.com/aman0456/nodevectors@67e9af0506236be9aae6d460e96d4dec6329bcd2) (2.8.2)\n",
            "Requirement already satisfied: pytz>=2020.1 in /usr/local/lib/python3.10/dist-packages (from pandas>=1.0->nodevectors@ git+https://github.com/aman0456/nodevectors@67e9af0506236be9aae6d460e96d4dec6329bcd2) (2023.4)\n",
            "Requirement already satisfied: tqdm in /usr/local/lib/python3.10/dist-packages (from csrgraph->nodevectors@ git+https://github.com/aman0456/nodevectors@67e9af0506236be9aae6d460e96d4dec6329bcd2) (4.66.2)\n",
            "Requirement already satisfied: smart-open>=1.8.1 in /usr/local/lib/python3.10/dist-packages (from gensim->nodevectors@ git+https://github.com/aman0456/nodevectors@67e9af0506236be9aae6d460e96d4dec6329bcd2) (6.4.0)\n",
            "Requirement already satisfied: llvmlite<0.42,>=0.41.0dev0 in /usr/local/lib/python3.10/dist-packages (from numba->nodevectors@ git+https://github.com/aman0456/nodevectors@67e9af0506236be9aae6d460e96d4dec6329bcd2) (0.41.1)\n",
            "Requirement already satisfied: joblib>=1.1.1 in /usr/local/lib/python3.10/dist-packages (from scikit-learn->nodevectors@ git+https://github.com/aman0456/nodevectors@67e9af0506236be9aae6d460e96d4dec6329bcd2) (1.3.2)\n",
            "Requirement already satisfied: threadpoolctl>=2.0.0 in /usr/local/lib/python3.10/dist-packages (from scikit-learn->nodevectors@ git+https://github.com/aman0456/nodevectors@67e9af0506236be9aae6d460e96d4dec6329bcd2) (3.3.0)\n",
            "Requirement already satisfied: six>=1.5 in /usr/local/lib/python3.10/dist-packages (from python-dateutil>=2.8.1->pandas>=1.0->nodevectors@ git+https://github.com/aman0456/nodevectors@67e9af0506236be9aae6d460e96d4dec6329bcd2) (1.16.0)\n",
            "Building wheels for collected packages: nodevectors\n",
            "  Building wheel for nodevectors (setup.py) ... \u001b[?25l\u001b[?25hdone\n",
            "  Created wheel for nodevectors: filename=nodevectors-0.1.23-py3-none-any.whl size=18807 sha256=d93d244fd45460b7d50819e00f1c1755cfc2c106c4aecbb3f1f9756e5168f5e8\n",
            "  Stored in directory: /root/.cache/pip/wheels/d5/3e/71/c6c1b9a3faa90a8672db8c915358b27f2d69269f8b361a4a97\n",
            "Successfully built nodevectors\n",
            "Installing collected packages: nodevectors\n",
            "Successfully installed nodevectors-0.1.23\n"
          ]
        }
      ]
    },
    {
      "cell_type": "markdown",
      "metadata": {
        "id": "pUCNE4-5Wc8b"
      },
      "source": [
        "We now import the library, and create a small wrapper class which will expose only the few hyperparameters we will need to tune in this Colab"
      ]
    },
    {
      "cell_type": "code",
      "metadata": {
        "id": "QiIPtudrGlTf"
      },
      "source": [
        "from nodevectors import Node2Vec\n",
        "import networkx as nx\n",
        "\n",
        "class Node2VecNew(Node2Vec):\n",
        "  \"\"\"\n",
        "  Parameters\n",
        "  ----------\n",
        "  p : float\n",
        "      p parameter of node2vec\n",
        "  q : float\n",
        "      q parameter of node2vec\n",
        "  d : int\n",
        "      dimensionality of the embedding vectors\n",
        "  \"\"\"\n",
        "  def __init__(self, p=1, q=1, d=32):\n",
        "    super().__init__(\n",
        "                 n_components=d,\n",
        "                     walklen=10,\n",
        "                     epochs=50,\n",
        "                     return_weight=1.0/p,\n",
        "                     neighbor_weight=1.0/q,\n",
        "                     threads=0,\n",
        "                     w2vparams={'window': 4,\n",
        "                                'negative': 5,\n",
        "                                'iter': 10,\n",
        "                                'ns_exponent': 0.5,\n",
        "                                'batch_words': 128})"
      ],
      "execution_count": 2,
      "outputs": []
    },
    {
      "cell_type": "markdown",
      "metadata": {
        "id": "qwtlO4_m_LbQ"
      },
      "source": [
        "Lastly, let's import some of the common libraries needed for our task."
      ]
    },
    {
      "cell_type": "code",
      "metadata": {
        "id": "twk-K-jilWK7"
      },
      "source": [
        "import pandas as pd\n",
        "import numpy as np\n",
        "import matplotlib.pyplot as plt\n",
        "from tqdm import tqdm\n",
        "%matplotlib inline"
      ],
      "execution_count": 3,
      "outputs": []
    },
    {
      "cell_type": "markdown",
      "metadata": {
        "id": "kAYRX2PMm0L6"
      },
      "source": [
        "### Example\n",
        "\n",
        "In the example below, we will try to reproduce the plot in slide 8 of [CS246 - Lecture 12](https://web.stanford.edu/class/cs246/slides/13-graphemb.pdf)."
      ]
    },
    {
      "cell_type": "code",
      "metadata": {
        "id": "2PsVt5f2CsmP",
        "colab": {
          "base_uri": "https://localhost:8080/"
        },
        "outputId": "90d7f8e6-e493-4cde-9218-435a8c79ea48"
      },
      "source": [
        "# Load the Zachary's Karate Club as a NetworkX Graph object\n",
        "KCG = nx.karate_club_graph()\n",
        "\n",
        "# Fit embedding model to the Karate Club graph\n",
        "n2v = Node2VecNew(1, 1, 2)\n",
        "n2v.fit(KCG)"
      ],
      "execution_count": 4,
      "outputs": [
        {
          "output_type": "stream",
          "name": "stdout",
          "text": [
            "Making walks... Done, T=3.85\n",
            "Mapping Walk Names... Done, T=0.03\n",
            "Training W2V... WARNING: gensim word2vec version is unoptimizedTry version 3.6 if on windows, versions 3.7 and 3.8 have had issues\n",
            "Done, T=0.25\n"
          ]
        }
      ]
    },
    {
      "cell_type": "code",
      "metadata": {
        "id": "ZEjzhwEiC1HD"
      },
      "source": [
        "embeddings = []\n",
        "for node in KCG.nodes:\n",
        "  embedding = list(n2v.predict(node))\n",
        "  club = KCG.nodes[node]['club']\n",
        "  embeddings.append(embedding + [club])\n",
        "\n",
        "# Construct a pandas dataframe with the 2D embeddings from node2vec,\n",
        "# plus the club name that each node belongs to after the split\n",
        "df = pd.DataFrame(embeddings, columns=['x', 'y', 'club'])"
      ],
      "execution_count": 5,
      "outputs": []
    },
    {
      "cell_type": "code",
      "metadata": {
        "id": "fJBTilMGLInb",
        "colab": {
          "base_uri": "https://localhost:8080/",
          "height": 467
        },
        "outputId": "989eb795-adcf-4337-b6c8-962f58348fde"
      },
      "source": [
        "# Nodes who stayed with the Mr. Hi will be plotted in red, while nodes\n",
        "# who moved with the Officer will be plotted in blue\n",
        "colors = ['red' if x == 'Mr. Hi' else 'blue' for x in df.club]\n",
        "df.plot.scatter(x='x', y='y', s=50, c=colors)"
      ],
      "execution_count": 6,
      "outputs": [
        {
          "output_type": "execute_result",
          "data": {
            "text/plain": [
              "<Axes: xlabel='x', ylabel='y'>"
            ]
          },
          "metadata": {},
          "execution_count": 6
        },
        {
          "output_type": "display_data",
          "data": {
            "text/plain": [
              "<Figure size 640x480 with 1 Axes>"
            ],
            "image/png": "[encoded data removed]"
          },
          "metadata": {}
        }
      ]
    },
    {
      "cell_type": "markdown",
      "metadata": {
        "id": "e6vmpmj6Ylph"
      },
      "source": [
        "If our example trained correctly, you should notice a clear separation between the blue and red nodes.  Solely from the graph structure, node2vec could predict how the Zachary's Karate Club split!\n",
        "\n",
        "Tune the hyperparameters ```p``` and ```q```, and notice how they affect the resulting embeddings."
      ]
    },
    {
      "cell_type": "markdown",
      "metadata": {
        "id": "vbmr23B2rJKR"
      },
      "source": [
        "### Your Task"
      ]
    },
    {
      "cell_type": "markdown",
      "metadata": {
        "id": "x15OQeyys1xd"
      },
      "source": [
        "Now we will study the behavior of node2vec on [barbell graphs](https://en.wikipedia.org/wiki/Barbell_graph).\n",
        "\n",
        "Below you can see a toy example of a barbell graph generated with NetworkX."
      ]
    },
    {
      "cell_type": "code",
      "metadata": {
        "id": "xUYxs4E8aHgG",
        "colab": {
          "base_uri": "https://localhost:8080/",
          "height": 516
        },
        "outputId": "269836b3-8730-4d47-c1c5-ef36af0d3ef7"
      },
      "source": [
        "toy_barbell = nx.barbell_graph(7, 0)\n",
        "nx.draw_kamada_kawai(toy_barbell)"
      ],
      "execution_count": 7,
      "outputs": [
        {
          "output_type": "display_data",
          "data": {
            "text/plain": [
              "<Figure size 640x480 with 1 Axes>"
            ],
            "image/png": "[encoded data removed]"
          },
          "metadata": {}
        }
      ]
    },
    {
      "cell_type": "markdown",
      "metadata": {
        "id": "G7K3-57FyD8D"
      },
      "source": [
        "Generate a larger barbell graph, where each complete graph has exactly 1000 nodes.\n",
        "\n",
        "Then, learn node2vec embeddings on this graph, setting ```p = 1, q = 1``` and ```d = 10```."
      ]
    },
    {
      "cell_type": "code",
      "metadata": {
        "id": "k_rmp-SvaIOt",
        "colab": {
          "base_uri": "https://localhost:8080/"
        },
        "outputId": "525eb1a3-e324-4387-b23e-d33abc1a228d"
      },
      "source": [
        "''' 5-7 lines of code in total expected but can differ based on your style.\n",
        "For sub-parts of the question (if any), creating different cells of code would be recommended.'''\n",
        "# YOUR CODE HERE\n",
        "G = nx.barbell_graph(1000, 0)\n",
        "\n",
        "model = Node2VecNew(1, 1, 10)\n",
        "model.fit(G)"
      ],
      "execution_count": 8,
      "outputs": [
        {
          "output_type": "stream",
          "name": "stdout",
          "text": [
            "Making walks... Done, T=1.48\n",
            "Mapping Walk Names... Done, T=1.33\n",
            "Training W2V... WARNING: gensim word2vec version is unoptimizedTry version 3.6 if on windows, versions 3.7 and 3.8 have had issues\n",
            "Done, T=27.34\n"
          ]
        }
      ]
    },
    {
      "cell_type": "code",
      "source": [
        " # Calculate embeddings\n",
        "embeddingsG = []\n",
        "for node in G.nodes:\n",
        "  embedding = list(model.predict(node))\n",
        "  embeddingsG.append(embedding)"
      ],
      "metadata": {
        "id": "hRz_uK31rGxH"
      },
      "execution_count": 9,
      "outputs": []
    },
    {
      "cell_type": "code",
      "source": [
        "len(G.nodes)"
      ],
      "metadata": {
        "colab": {
          "base_uri": "https://localhost:8080/"
        },
        "id": "jYL3-H3dsxDC",
        "outputId": "5acb2ff0-5ed0-4686-bfca-ff3f6b7a7b65"
      },
      "execution_count": 10,
      "outputs": [
        {
          "output_type": "execute_result",
          "data": {
            "text/plain": [
              "2000"
            ]
          },
          "metadata": {},
          "execution_count": 10
        }
      ]
    },
    {
      "cell_type": "code",
      "source": [
        "len(G.edges)"
      ],
      "metadata": {
        "colab": {
          "base_uri": "https://localhost:8080/"
        },
        "id": "egOavGABszZK",
        "outputId": "d5a2bf22-2fd0-40e1-d50d-ec434cb1390e"
      },
      "execution_count": 11,
      "outputs": [
        {
          "output_type": "execute_result",
          "data": {
            "text/plain": [
              "999001"
            ]
          },
          "metadata": {},
          "execution_count": 11
        }
      ]
    },
    {
      "cell_type": "markdown",
      "metadata": {
        "id": "fyxZBVwhzLQe"
      },
      "source": [
        "Write a function that takes as input a node id ```n``` in the graph (e.g., ```5```) and returns a list containining the cosine similarity between the node2vec vector of the input node ```n``` and all the nodes in the given barbell graph (including the similarity with ```n``` itself)."
      ]
    },
    {
      "cell_type": "code",
      "metadata": {
        "id": "aq7advtkjXSp"
      },
      "source": [
        "''' 24-30 lines of code in total expected but can differ based on your style.\n",
        "For sub-parts of the question (if any), creating different cells of code would be recommended.'''\n",
        "\n",
        "# YOUR CODE HERE\n",
        "def f(n, embeddings):\n",
        "    cosine_similarities = dict()\n",
        "    vec = embeddings[n]\n",
        "    for i, e in enumerate(embeddings):\n",
        "        cosine_similarities[i] = np.dot(vec, e)/(np.linalg.norm(vec)*np.linalg.norm(e))\n",
        "    return cosine_similarities"
      ],
      "execution_count": 12,
      "outputs": []
    },
    {
      "cell_type": "markdown",
      "metadata": {
        "id": "zw1oNDDD2dZO"
      },
      "source": [
        "Generate another barbell graph, this time adding a path of length 51 between\n",
        "\n",
        "---\n",
        "\n",
        "the two complete graphs. To find out how, refer to the NetworkX documentation: [https://networkx.github.io/documentation/stable/reference/\n",
        "\n",
        "---\n",
        "\n",
        "generated/networkx.generators.classic.barbell_graph.html#networkx.generators.classic.barbell_graph](https://networkx.github.io/documentation/stable/reference/generated/networkx.generators.classic.barbell_graph.html#networkx.generators.classic.barbell_graph)\n",
        "\n",
        "Learn the node2vec embeddings for the nodes of this new graph, using the same hyperparameters as before."
      ]
    },
    {
      "cell_type": "code",
      "metadata": {
        "id": "Wrv5Eyba3NM0",
        "colab": {
          "base_uri": "https://localhost:8080/"
        },
        "outputId": "da4b213f-0039-46e3-c9e3-bc2a918b85ad"
      },
      "source": [
        "''' 10-12 lines of code in total expected but can differ based on your style.\n",
        "For sub-parts of the question (if any), creating different cells of code would be recommended.'''\n",
        "# YOUR CODE HERE\n",
        "GG = nx.barbell_graph(1000, 51)\n",
        "modelGG = Node2VecNew(1, 1, 10)\n",
        "modelGG.fit(GG)"
      ],
      "execution_count": 13,
      "outputs": [
        {
          "output_type": "stream",
          "name": "stdout",
          "text": [
            "Making walks... Done, T=0.86\n",
            "Mapping Walk Names... Done, T=0.60\n",
            "Training W2V... WARNING: gensim word2vec version is unoptimizedTry version 3.6 if on windows, versions 3.7 and 3.8 have had issues\n",
            "Done, T=20.23\n"
          ]
        }
      ]
    },
    {
      "cell_type": "code",
      "source": [
        " # Calculate embeddings\n",
        "embeddingsGG = []\n",
        "for node in GG.nodes:\n",
        "  embedding = list(modelGG.predict(node))\n",
        "  embeddingsGG.append(embedding)"
      ],
      "metadata": {
        "id": "aATD70HLtzB6"
      },
      "execution_count": 14,
      "outputs": []
    },
    {
      "cell_type": "code",
      "source": [
        "len(GG.nodes)"
      ],
      "metadata": {
        "colab": {
          "base_uri": "https://localhost:8080/"
        },
        "id": "bTsAaqP0uAcj",
        "outputId": "0ccaa003-7608-4641-adb4-960d93456d0f"
      },
      "execution_count": 16,
      "outputs": [
        {
          "output_type": "execute_result",
          "data": {
            "text/plain": [
              "2051"
            ]
          },
          "metadata": {},
          "execution_count": 16
        }
      ]
    },
    {
      "cell_type": "code",
      "source": [
        "len(GG.edges)"
      ],
      "metadata": {
        "colab": {
          "base_uri": "https://localhost:8080/"
        },
        "id": "rOsmhjE8t-By",
        "outputId": "22029b22-c5be-4fb7-fbd8-af97b18ecb62"
      },
      "execution_count": 15,
      "outputs": [
        {
          "output_type": "execute_result",
          "data": {
            "text/plain": [
              "999052"
            ]
          },
          "metadata": {},
          "execution_count": 15
        }
      ]
    },
    {
      "cell_type": "markdown",
      "metadata": {
        "id": "SIrXJyVNP2AI"
      },
      "source": [
        "Once you have working code for each cell above, **head over to Gradescope, read carefully the questions, and submit your solution for this Colab**!\n"
      ]
    },
    {
      "cell_type": "code",
      "source": [
        "count_a = 0\n",
        "for j in range(len(G.nodes)):\n",
        "    cos_sim = f(j, embeddingsG)\n",
        "    if len([i for i in cos_sim.values() if i > 0.8]) == 1000:\n",
        "        count_a += 1"
      ],
      "metadata": {
        "id": "uBEUQ976itJg"
      },
      "execution_count": 17,
      "outputs": []
    },
    {
      "cell_type": "code",
      "source": [
        "count_a"
      ],
      "metadata": {
        "colab": {
          "base_uri": "https://localhost:8080/"
        },
        "id": "qmHKd3CmxWsV",
        "outputId": "36448f2a-7fdb-4cea-efc5-8f074dd38996"
      },
      "execution_count": 18,
      "outputs": [
        {
          "output_type": "execute_result",
          "data": {
            "text/plain": [
              "1364"
            ]
          },
          "metadata": {},
          "execution_count": 18
        }
      ]
    },
    {
      "cell_type": "code",
      "source": [
        "count_b = 0\n",
        "for j in range(len(GG.nodes)):\n",
        "    cos_sim = f(j, embeddingsGG)\n",
        "    if len([i for i in cos_sim.values() if i > 0.8]) == 1000:\n",
        "        count_b += 1"
      ],
      "metadata": {
        "id": "7pE_sMW9zmuW"
      },
      "execution_count": 19,
      "outputs": []
    },
    {
      "cell_type": "code",
      "source": [
        "count_b"
      ],
      "metadata": {
        "colab": {
          "base_uri": "https://localhost:8080/"
        },
        "id": "q4h-GRXIzpso",
        "outputId": "6cd2f856-6041-431e-bded-25787d2cdf9a"
      },
      "execution_count": 20,
      "outputs": [
        {
          "output_type": "execute_result",
          "data": {
            "text/plain": [
              "0"
            ]
          },
          "metadata": {},
          "execution_count": 20
        }
      ]
    },
    {
      "cell_type": "code",
      "source": [
        "count_c = 0\n",
        "for j in range(len(GG.nodes)):\n",
        "    cos_sim = f(j, embeddingsGG)\n",
        "    if len([i for i in cos_sim.values() if i > 0.8]) < 100:\n",
        "        count_c += 1"
      ],
      "metadata": {
        "id": "X-cgSPQCzBXf"
      },
      "execution_count": 21,
      "outputs": []
    },
    {
      "cell_type": "code",
      "source": [
        "count_c"
      ],
      "metadata": {
        "colab": {
          "base_uri": "https://localhost:8080/"
        },
        "id": "jlWLp3JnzXtt",
        "outputId": "c60532be-8292-48ee-e60c-187c3b6ffa3d"
      },
      "execution_count": 22,
      "outputs": [
        {
          "output_type": "execute_result",
          "data": {
            "text/plain": [
              "53"
            ]
          },
          "metadata": {},
          "execution_count": 22
        }
      ]
    }
  ]
}