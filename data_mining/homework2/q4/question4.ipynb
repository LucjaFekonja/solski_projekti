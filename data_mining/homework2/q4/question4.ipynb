{
 "cells": [
  {
   "cell_type": "markdown",
   "metadata": {},
   "source": [
    "# Question 4 - Recommendation Systems\n",
    "\n",
    "In this question we want to recommend 5 shows to Alex based on user-user collaborative filtering and on item-item collaborative filtering."
   ]
  },
  {
   "cell_type": "code",
   "execution_count": 214,
   "metadata": {},
   "outputs": [],
   "source": [
    "import numpy as np"
   ]
  },
  {
   "cell_type": "markdown",
   "metadata": {},
   "source": [
    "First import matrix $R$, in which each row represents a user and each column represents a show, and all the names of shows."
   ]
  },
  {
   "cell_type": "code",
   "execution_count": 215,
   "metadata": {},
   "outputs": [],
   "source": [
    "# Create matrix R\n",
    "R_file = open(\"data/user-shows.txt\", \"r\")\n",
    "R = R_file.read()\n",
    "R = [x.split(\" \") for x in R.split(\"\\n\")][0:-1]   # split the string, last line is white space\n",
    "R = [[int(x) for x in R[i]] for i in range(len(R))]   # convert to a int list list\n",
    "R = np.array(R)"
   ]
  },
  {
   "cell_type": "code",
   "execution_count": 216,
   "metadata": {},
   "outputs": [],
   "source": [
    "# Import show titles\n",
    "names_file = open(\"data/shows.txt\", \"r\")\n",
    "names = names_file.read()\n",
    "names = [x.replace('\"', '') for x in names.split(\"\\n\")]"
   ]
  },
  {
   "cell_type": "markdown",
   "metadata": {},
   "source": [
    "Create matrices $P$ and $Q$ by counting the number of ones in each row for $P$ and the number of ones in each column for $Q$."
   ]
  },
  {
   "cell_type": "code",
   "execution_count": 217,
   "metadata": {},
   "outputs": [],
   "source": [
    "# Compute P and Q\n",
    "P = np.diag(np.sum(R, axis=1))\n",
    "Q = np.diag(np.sum(R, axis=0))"
   ]
  },
  {
   "cell_type": "markdown",
   "metadata": {},
   "source": [
    "Create matrices $S_I$ and $S_U$ in which element in row $i$ and column $j$ represents a cosine similarity of items $i$ and $j$ and users $i$ and $j$ respectively. $S_I$ can be calculated as matrix product $S_I = Q^{-1/2} R^T R Q^{-1/2}$, while $S_U$ can be calculated using formula $S_U = R Q^{-1} R^T$."
   ]
  },
  {
   "cell_type": "code",
   "execution_count": 261,
   "metadata": {},
   "outputs": [
    {
     "name": "stderr",
     "output_type": "stream",
     "text": [
      "C:\\Users\\lf1362\\AppData\\Local\\Temp\\ipykernel_28076\\885897082.py:1: RuntimeWarning: divide by zero encountered in divide\n",
      "  Q_root = np.diag(np.diag(1 / np.sqrt(Q)))\n",
      "C:\\Users\\lf1362\\AppData\\Local\\Temp\\ipykernel_28076\\885897082.py:2: RuntimeWarning: divide by zero encountered in divide\n",
      "  P_root = np.diag(np.diag(1 / np.sqrt(P)))\n"
     ]
    }
   ],
   "source": [
    "Q_root = np.diag(np.diag(1 / np.sqrt(Q)))\n",
    "P_root = np.diag(np.diag(1 / np.sqrt(P)))\n",
    "Si = np.matmul(np.matmul(Q_root, R.T), np.matmul(R, Q_root))\n",
    "Su = np.matmul(np.matmul(P_root, R), np.matmul(R.T, P_root))\n",
    "# Su = np.matmul(np.matmul(R.T, P_root**2), R)"
   ]
  },
  {
   "cell_type": "markdown",
   "metadata": {},
   "source": [
    "## User-user collaborative filtering\n",
    "\n",
    "We create a recommendation matrix $\\Gamma$, which is for user-user commaborative filtering defined as $\\Gamma = S_U R$. Then we recommend five shows from the first $100$ shows to Alex."
   ]
  },
  {
   "cell_type": "code",
   "execution_count": 262,
   "metadata": {},
   "outputs": [],
   "source": [
    "# We recommend top 5 shows from first 100 shows to alex\n",
    "Gamma_user = np.matmul(Su, R)\n",
    "unknown_shows_user = Gamma_user[499, 0:100]\n",
    "recommendation_user = np.argsort(unknown_shows_user)[-5:]"
   ]
  },
  {
   "cell_type": "code",
   "execution_count": 257,
   "metadata": {},
   "outputs": [
    {
     "data": {
      "text/plain": [
       "908.480053476128"
      ]
     },
     "execution_count": 257,
     "metadata": {},
     "output_type": "execute_result"
    }
   ],
   "source": [
    "np.max(unknown_shows_user)"
   ]
  },
  {
   "cell_type": "code",
   "execution_count": 221,
   "metadata": {},
   "outputs": [
    {
     "name": "stdout",
     "output_type": "stream",
     "text": [
      "Two and a Half Men\n",
      "NBC 4 at Eleven\n",
      "2009 NCAA Basketball Tournament\n",
      "Family Guy\n",
      "FOX 28 News at 10pm\n"
     ]
    }
   ],
   "source": [
    "for id in recommendation_user:\n",
    "    print(names[id])"
   ]
  },
  {
   "cell_type": "markdown",
   "metadata": {},
   "source": [
    "## Item-item collaborative filtering\n",
    "\n",
    "We create a recommendation matrix $\\Gamma$, which is for item-item commaborative filtering defined as $\\Gamma = R S_I$. Then we recommend five shows from the first $100$ shows to Alex."
   ]
  },
  {
   "cell_type": "code",
   "execution_count": 243,
   "metadata": {},
   "outputs": [],
   "source": [
    "# We recommend top 5 shows from first 100 shows to alex\n",
    "Gamma_item = np.matmul(R, Si)\n",
    "unknown_shows_item = Gamma_item[499, :100]\n",
    "Si_sum = np.sum(Si, axis=0)[:100]\n",
    "\n",
    "recommendation_item = np.argsort(unknown_shows_item)[-5:]"
   ]
  },
  {
   "cell_type": "code",
   "execution_count": 244,
   "metadata": {},
   "outputs": [
    {
     "data": {
      "text/plain": [
       "31.3647016783424"
      ]
     },
     "execution_count": 244,
     "metadata": {},
     "output_type": "execute_result"
    }
   ],
   "source": [
    "np.max(unknown_shows_item)"
   ]
  },
  {
   "cell_type": "code",
   "execution_count": 245,
   "metadata": {},
   "outputs": [
    {
     "name": "stdout",
     "output_type": "stream",
     "text": [
      "Access Hollywood\n",
      "2009 NCAA Basketball Tournament\n",
      "NBC 4 at Eleven\n",
      "Family Guy\n",
      "FOX 28 News at 10pm\n"
     ]
    }
   ],
   "source": [
    "for id in recommendation_item:\n",
    "    print(names[id])"
   ]
  }
 ],
 "metadata": {
  "kernelspec": {
   "display_name": "Python 3",
   "language": "python",
   "name": "python3"
  },
  "language_info": {
   "codemirror_mode": {
    "name": "ipython",
    "version": 3
   },
   "file_extension": ".py",
   "mimetype": "text/x-python",
   "name": "python",
   "nbconvert_exporter": "python",
   "pygments_lexer": "ipython3",
   "version": "3.11.8"
  }
 },
 "nbformat": 4,
 "nbformat_minor": 2
}
