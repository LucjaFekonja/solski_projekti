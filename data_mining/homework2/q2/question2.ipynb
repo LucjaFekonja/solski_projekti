{
  "nbformat": 4,
  "nbformat_minor": 0,
  "metadata": {
    "kernelspec": {
      "display_name": "Python 3",
      "language": "python",
      "name": "python3"
    },
    "language_info": {
      "codemirror_mode": {
        "name": "ipython",
        "version": 3
      },
      "file_extension": ".py",
      "mimetype": "text/x-python",
      "name": "python",
      "nbconvert_exporter": "python",
      "pygments_lexer": "ipython3",
      "version": "3.7.3"
    },
    "colab": {
      "provenance": [],
      "machine_shape": "hm",
      "collapsed_sections": [
        "eXQzA01OS_yQ"
      ]
    }
  },
  "cells": [
    {
      "cell_type": "markdown",
      "metadata": {
        "id": "GTwDFnjHMk25"
      },
      "source": [
        "# Question 2 - $k$-means on Spark\n"
      ]
    },
    {
      "cell_type": "markdown",
      "metadata": {
        "id": "eXQzA01OS_yQ"
      },
      "source": [
        "### Setup"
      ]
    },
    {
      "cell_type": "markdown",
      "metadata": {
        "id": "AbYZoVVWOZA5"
      },
      "source": [
        "Let's setup Spark on your Colab environment.  Run the cell below!"
      ]
    },
    {
      "cell_type": "code",
      "metadata": {
        "id": "dhzk3GE6S9RC",
        "colab": {
          "base_uri": "https://localhost:8080/"
        },
        "outputId": "ff162c87-ea8f-4ad7-e43c-9a37dbdbf31b"
      },
      "source": [
        "!pip install pyspark\n",
        "!pip install -U -q PyDrive2\n",
        "#the output 'xxx is not a symbolic link' will not affect your implementation or execution\n",
        "#to fix 'xxx is not a symbolic link', you can uncomment the lines starting from !mv xxxx\n",
        "#you may need to replace xxx.11 with the correct version if other errors come up after colab update\n",
        "#to get the correct version, use !ls /usr/local/lib to find out\n",
        "!mv /usr/local/lib/libtbbmalloc_proxy.so.2 /usr/local/lib/libtbbmalloc_proxy.so.2.backup\n",
        "!mv /usr/local/lib/libtbbmalloc.so.2 /usr/local/lib/libtbbmalloc.so.2.backup\n",
        "!mv /usr/local/lib/libtbbbind_2_5.so.3 /usr/local/lib/libtbbbind_2_5.so.3.backup\n",
        "!mv /usr/local/lib/libtbb.so.12 /usr/local/lib/libtbb.so.12.backup\n",
        "!mv /usr/local/lib/libtbbbind_2_0.so.3 /usr/local/lib/libtbbbind_2_0.so.3.backup\n",
        "!mv /usr/local/lib/libtbbbind.so.3 /usr/local/lib/libtbbbind.so.3.backup\n",
        "!ln -s /usr/local/lib/libtbbmalloc_proxy.so.2.11 /usr/local/lib/libtbbmalloc_proxy.so.2\n",
        "!ln -s /usr/local/lib/libtbbmalloc.so.2.11 /usr/local/lib/libtbbmalloc.so.2\n",
        "!ln -s /usr/local/lib/libtbbbind_2_5.so.3.11 /usr/local/lib/libtbbbind_2_5.so.3\n",
        "!ln -s /usr/local/lib/libtbb.so.12.11 /usr/local/lib/libtbb.so.12\n",
        "!ln -s /usr/local/lib/libtbbbind_2_0.so.3.11 /usr/local/lib/libtbbbind_2_0.so.3\n",
        "!ln -s /usr/local/lib/libtbbbind.so.3.11 /usr/local/lib/libtbbbind.so.3\n",
        "#If error related to the above execution occurs, you can try commenting out the above 12 lines under pip install PyDrive2 (not included)\n",
        "\n",
        "# !sudo ldconfig\n",
        "!apt install openjdk-8-jdk-headless -qq\n",
        "import os\n",
        "os.environ[\"JAVA_HOME\"] = \"/usr/lib/jvm/java-8-openjdk-amd64\"\n"
      ],
      "execution_count": 1,
      "outputs": [
        {
          "output_type": "stream",
          "name": "stdout",
          "text": [
            "Collecting pyspark\n",
            "  Downloading pyspark-3.5.0.tar.gz (316.9 MB)\n",
            "\u001b[2K     \u001b[90m━━━━━━━━━━━━━━━━━━━━━━━━━━━━━━━━━━━━━━━━\u001b[0m \u001b[32m316.9/316.9 MB\u001b[0m \u001b[31m4.2 MB/s\u001b[0m eta \u001b[36m0:00:00\u001b[0m\n",
            "\u001b[?25h  Preparing metadata (setup.py) ... \u001b[?25l\u001b[?25hdone\n",
            "Requirement already satisfied: py4j==0.10.9.7 in /usr/local/lib/python3.10/dist-packages (from pyspark) (0.10.9.7)\n",
            "Building wheels for collected packages: pyspark\n",
            "  Building wheel for pyspark (setup.py) ... \u001b[?25l\u001b[?25hdone\n",
            "  Created wheel for pyspark: filename=pyspark-3.5.0-py2.py3-none-any.whl size=317425345 sha256=d5664231e662fe3028ebd82aafddff3c25290b4d57523a7548f2165dd02df2f5\n",
            "  Stored in directory: /root/.cache/pip/wheels/41/4e/10/c2cf2467f71c678cfc8a6b9ac9241e5e44a01940da8fbb17fc\n",
            "Successfully built pyspark\n",
            "Installing collected packages: pyspark\n",
            "Successfully installed pyspark-3.5.0\n",
            "\u001b[2K     \u001b[90m━━━━━━━━━━━━━━━━━━━━━━━━━━━━━━━━━━━━━━━━\u001b[0m \u001b[32m46.7/46.7 kB\u001b[0m \u001b[31m2.6 MB/s\u001b[0m eta \u001b[36m0:00:00\u001b[0m\n",
            "\u001b[?25hThe following additional packages will be installed:\n",
            "  libxtst6 openjdk-8-jre-headless\n",
            "Suggested packages:\n",
            "  openjdk-8-demo openjdk-8-source libnss-mdns fonts-dejavu-extra fonts-nanum fonts-ipafont-gothic\n",
            "  fonts-ipafont-mincho fonts-wqy-microhei fonts-wqy-zenhei fonts-indic\n",
            "The following NEW packages will be installed:\n",
            "  libxtst6 openjdk-8-jdk-headless openjdk-8-jre-headless\n",
            "0 upgraded, 3 newly installed, 0 to remove and 32 not upgraded.\n",
            "Need to get 39.7 MB of archives.\n",
            "After this operation, 144 MB of additional disk space will be used.\n",
            "Selecting previously unselected package libxtst6:amd64.\n",
            "(Reading database ... 121747 files and directories currently installed.)\n",
            "Preparing to unpack .../libxtst6_2%3a1.2.3-1build4_amd64.deb ...\n",
            "Unpacking libxtst6:amd64 (2:1.2.3-1build4) ...\n",
            "Selecting previously unselected package openjdk-8-jre-headless:amd64.\n",
            "Preparing to unpack .../openjdk-8-jre-headless_8u392-ga-1~22.04_amd64.deb ...\n",
            "Unpacking openjdk-8-jre-headless:amd64 (8u392-ga-1~22.04) ...\n",
            "Selecting previously unselected package openjdk-8-jdk-headless:amd64.\n",
            "Preparing to unpack .../openjdk-8-jdk-headless_8u392-ga-1~22.04_amd64.deb ...\n",
            "Unpacking openjdk-8-jdk-headless:amd64 (8u392-ga-1~22.04) ...\n",
            "Setting up libxtst6:amd64 (2:1.2.3-1build4) ...\n",
            "Setting up openjdk-8-jre-headless:amd64 (8u392-ga-1~22.04) ...\n",
            "update-alternatives: using /usr/lib/jvm/java-8-openjdk-amd64/jre/bin/orbd to provide /usr/bin/orbd (orbd) in auto mode\n",
            "update-alternatives: using /usr/lib/jvm/java-8-openjdk-amd64/jre/bin/servertool to provide /usr/bin/servertool (servertool) in auto mode\n",
            "update-alternatives: using /usr/lib/jvm/java-8-openjdk-amd64/jre/bin/tnameserv to provide /usr/bin/tnameserv (tnameserv) in auto mode\n",
            "Setting up openjdk-8-jdk-headless:amd64 (8u392-ga-1~22.04) ...\n",
            "update-alternatives: using /usr/lib/jvm/java-8-openjdk-amd64/bin/clhsdb to provide /usr/bin/clhsdb (clhsdb) in auto mode\n",
            "update-alternatives: using /usr/lib/jvm/java-8-openjdk-amd64/bin/extcheck to provide /usr/bin/extcheck (extcheck) in auto mode\n",
            "update-alternatives: using /usr/lib/jvm/java-8-openjdk-amd64/bin/hsdb to provide /usr/bin/hsdb (hsdb) in auto mode\n",
            "update-alternatives: using /usr/lib/jvm/java-8-openjdk-amd64/bin/idlj to provide /usr/bin/idlj (idlj) in auto mode\n",
            "update-alternatives: using /usr/lib/jvm/java-8-openjdk-amd64/bin/javah to provide /usr/bin/javah (javah) in auto mode\n",
            "update-alternatives: using /usr/lib/jvm/java-8-openjdk-amd64/bin/jhat to provide /usr/bin/jhat (jhat) in auto mode\n",
            "update-alternatives: using /usr/lib/jvm/java-8-openjdk-amd64/bin/jsadebugd to provide /usr/bin/jsadebugd (jsadebugd) in auto mode\n",
            "update-alternatives: using /usr/lib/jvm/java-8-openjdk-amd64/bin/native2ascii to provide /usr/bin/native2ascii (native2ascii) in auto mode\n",
            "update-alternatives: using /usr/lib/jvm/java-8-openjdk-amd64/bin/schemagen to provide /usr/bin/schemagen (schemagen) in auto mode\n",
            "update-alternatives: using /usr/lib/jvm/java-8-openjdk-amd64/bin/wsgen to provide /usr/bin/wsgen (wsgen) in auto mode\n",
            "update-alternatives: using /usr/lib/jvm/java-8-openjdk-amd64/bin/wsimport to provide /usr/bin/wsimport (wsimport) in auto mode\n",
            "update-alternatives: using /usr/lib/jvm/java-8-openjdk-amd64/bin/xjc to provide /usr/bin/xjc (xjc) in auto mode\n",
            "Processing triggers for libc-bin (2.35-0ubuntu3.4) ...\n"
          ]
        }
      ]
    },
    {
      "cell_type": "markdown",
      "metadata": {
        "id": "ctU1dYjfOif7"
      },
      "source": [
        "Now we authenticate a Google Drive client to download the file we will be processing in our Spark job.\n",
        "\n",
        "**Make sure to follow the interactive instructions.**"
      ]
    },
    {
      "cell_type": "code",
      "metadata": {
        "id": "1dfnX7IAOkvH"
      },
      "source": [
        "from pydrive2.auth import GoogleAuth\n",
        "from pydrive2.drive import GoogleDrive\n",
        "from google.colab import auth\n",
        "from oauth2client.client import GoogleCredentials\n",
        "\n",
        "# Authenticate and create the PyDrive client\n",
        "auth.authenticate_user()\n",
        "gauth = GoogleAuth()\n",
        "gauth.credentials = GoogleCredentials.get_application_default()\n",
        "drive = GoogleDrive(gauth)"
      ],
      "execution_count": 2,
      "outputs": []
    },
    {
      "cell_type": "code",
      "source": [
        "id='1wqmLKaPwHsmQd7Hq1k2frnwfYXcz8cOB'\n",
        "downloaded = drive.CreateFile({'id': id})\n",
        "downloaded.GetContentFile('data.txt')\n",
        "\n",
        "id='1I2SJRMgT-4EWRn--zrULV9ioDjHbpb5s'\n",
        "downloaded = drive.CreateFile({'id': id})\n",
        "downloaded.GetContentFile('c1.txt')\n",
        "\n",
        "id='1Ot72q_LJ1tRoEkwHMnPENdxHDYzO2A2H'\n",
        "downloaded = drive.CreateFile({'id': id})\n",
        "downloaded.GetContentFile('c2.txt')"
      ],
      "metadata": {
        "id": "DrVS1zQZlizf"
      },
      "execution_count": 3,
      "outputs": []
    },
    {
      "cell_type": "code",
      "metadata": {
        "id": "xgQaRx6rSaf9"
      },
      "source": [
        "# Let's import the libraries we will need\n",
        "import pandas as pd\n",
        "import numpy as np\n",
        "import math\n",
        "import matplotlib.pyplot as plt\n",
        "%matplotlib inline\n",
        "\n",
        "import pyspark\n",
        "from pyspark.sql import *\n",
        "from pyspark.sql.functions import *\n",
        "from pyspark import SparkContext, SparkConf\n",
        "from pyspark.sql.types import DoubleType, ArrayType, FloatType"
      ],
      "execution_count": 4,
      "outputs": []
    },
    {
      "cell_type": "markdown",
      "metadata": {
        "id": "uUD5XpD_SagA"
      },
      "source": [
        "Let's initialize the Spark context.\n"
      ]
    },
    {
      "cell_type": "code",
      "metadata": {
        "id": "7ft3VivrSagB"
      },
      "source": [
        "# create the Spark Session\n",
        "spark = SparkSession.builder.getOrCreate()\n",
        "\n",
        "# create the Spark Context\n",
        "sc = spark.sparkContext"
      ],
      "execution_count": 5,
      "outputs": []
    },
    {
      "cell_type": "markdown",
      "metadata": {
        "id": "-n20ixkgSagD"
      },
      "source": [
        "You can easily check the current version and get the link of the web interface. In the Spark UI, you can monitor the progress of your job and debug the performance bottlenecks (if your Colab is running with a **local runtime**)."
      ]
    },
    {
      "cell_type": "code",
      "metadata": {
        "id": "Fl4RHbqFSagE",
        "colab": {
          "base_uri": "https://localhost:8080/",
          "height": 326
        },
        "outputId": "542dd441-0b05-43f9-8f48-acea6e2961ec"
      },
      "source": [
        "spark"
      ],
      "execution_count": 6,
      "outputs": [
        {
          "output_type": "execute_result",
          "data": {
            "text/plain": [
              "<pyspark.sql.session.SparkSession at 0x78ed99d68c10>"
            ],
            "text/html": [
              "\n",
              "            <div>\n",
              "                <p><b>SparkSession - in-memory</b></p>\n",
              "                \n",
              "        <div>\n",
              "            <p><b>SparkContext</b></p>\n",
              "\n",
              "            <p><a href=\"http://abd7742a8c62:4040\">Spark UI</a></p>\n",
              "\n",
              "            <dl>\n",
              "              <dt>Version</dt>\n",
              "                <dd><code>v3.5.0</code></dd>\n",
              "              <dt>Master</dt>\n",
              "                <dd><code>local[*]</code></dd>\n",
              "              <dt>AppName</dt>\n",
              "                <dd><code>pyspark-shell</code></dd>\n",
              "            </dl>\n",
              "        </div>\n",
              "        \n",
              "            </div>\n",
              "        "
            ]
          },
          "metadata": {},
          "execution_count": 6
        }
      ]
    },
    {
      "cell_type": "markdown",
      "metadata": {
        "id": "gewv-lKMSagI"
      },
      "source": [
        "## a) Exploring initialization strategies with Euclidean distance"
      ]
    },
    {
      "cell_type": "markdown",
      "source": [
        "First read the document."
      ],
      "metadata": {
        "id": "lI2c3AROnMSJ"
      }
    },
    {
      "cell_type": "code",
      "source": [
        "# Load data from data.txt\n",
        "data = sc.textFile(\"data.txt\").map(lambda line: list(map(float, line.strip().split(' '))))\n",
        "\n",
        "# Load initial centroids from c1.txt and c2.txt\n",
        "initial_centroids_c1 = sc.textFile(\"c1.txt\").map(lambda line: list(map(float, line.strip().split(' '))))\n",
        "initial_centroids_c2 = sc.textFile(\"c2.txt\").map(lambda line: list(map(float, line.strip().split(' '))))"
      ],
      "metadata": {
        "id": "qs56954B0N8b"
      },
      "execution_count": 7,
      "outputs": []
    },
    {
      "cell_type": "markdown",
      "source": [
        "We will utilize the Euclidean distance metric to assign each point to the centroid that is closest, aiming to minimize the cost function $\\phi = \\sum_{x ∈ 𝑋} min_{c \\in 𝐶} || x - c ||^2$."
      ],
      "metadata": {
        "id": "mGbqVU3M9FjK"
      }
    },
    {
      "cell_type": "code",
      "source": [
        "def euclidean_distance(v1, v2):\n",
        "    sez = [(a - b) ** 2 for a, b in zip(v1, v2)]\n",
        "    s = 0\n",
        "    for i in sez:\n",
        "      s += i\n",
        "    return math.sqrt(s)"
      ],
      "metadata": {
        "id": "ETztt6iSa3NO"
      },
      "execution_count": 8,
      "outputs": []
    },
    {
      "cell_type": "code",
      "source": [
        "def assign_cluster(point, centroids):\n",
        "    min_distance = float('inf')\n",
        "    closest_centroid = None\n",
        "    for centroid in centroids:\n",
        "        distance = euclidean_distance(point, centroid)\n",
        "        if distance < min_distance:\n",
        "            min_distance = distance\n",
        "            closest_centroid = centroid\n",
        "    return closest_centroid, min_distance ** 2"
      ],
      "metadata": {
        "id": "WHCW7ZUI-Zlh"
      },
      "execution_count": 9,
      "outputs": []
    },
    {
      "cell_type": "code",
      "source": [
        "def compute_cost(data_rdd, centroids):\n",
        "    return data_rdd.map(lambda point: assign_cluster(point, centroids)[1]).sum()"
      ],
      "metadata": {
        "id": "IPFPvv2e-f0T"
      },
      "execution_count": 10,
      "outputs": []
    },
    {
      "cell_type": "markdown",
      "source": [
        "In each iteration, we update the centroids to be the mean of the current centroid positions."
      ],
      "metadata": {
        "id": "h6S9KwUb-lZt"
      }
    },
    {
      "cell_type": "code",
      "source": [
        "def mean_point(data_list):\n",
        "    n = len(data_list[0])\n",
        "    mean = []\n",
        "    for i in range(n):\n",
        "        m = 0\n",
        "        for l in data_list:\n",
        "            m += l[i]\n",
        "        mean.append(m/len(data_list))\n",
        "    return mean"
      ],
      "metadata": {
        "id": "K4DzJVA9te9J"
      },
      "execution_count": 11,
      "outputs": []
    },
    {
      "cell_type": "markdown",
      "source": [
        "The main part of the program consists of 20 iterations. In each iteration, we compute the cost function and select new centroids using the previously defined functions."
      ],
      "metadata": {
        "id": "qykSeDSe_hYc"
      }
    },
    {
      "cell_type": "code",
      "source": [
        "def kmeans(data_rdd, initial_centroids_rdd):\n",
        "    iterations = 20\n",
        "    costs = []\n",
        "\n",
        "    centroids = initial_centroids_rdd.collect()\n",
        "\n",
        "    for i in range(iterations):\n",
        "        cost = compute_cost(data_rdd, centroids)\n",
        "        costs.append(cost)\n",
        "\n",
        "        new_centroids = data.map(lambda point: (centroids.index(assign_cluster(point, centroids)[0]), point)).groupByKey().mapValues(list).map(lambda x: list(np.mean(x[1], axis=0)))\n",
        "        centroids = new_centroids.collect()\n",
        "\n",
        "    return costs\n",
        "\n",
        "# Run K-means with initial centroids from c1.txt\n",
        "costs_c1 = kmeans(data, initial_centroids_c1)\n",
        "\n",
        "# Run K-means with initial centroids from c2.txt\n",
        "costs_c2 = kmeans(data, initial_centroids_c2)\n"
      ],
      "metadata": {
        "id": "9XumAKN10OwE"
      },
      "execution_count": 12,
      "outputs": []
    },
    {
      "cell_type": "markdown",
      "source": [
        "Plot the cost function for inital centroids from c1.txt and c2.txt."
      ],
      "metadata": {
        "id": "Maz7ZrH5ABnh"
      }
    },
    {
      "cell_type": "code",
      "source": [
        "plt.plot(range(len(costs_c1)), costs_c1, label='c1.txt')\n",
        "plt.plot(range(len(costs_c2)), costs_c2, label='c2.txt')\n",
        "\n",
        "plt.xlabel('Iteration')\n",
        "plt.ylabel('Cost')\n",
        "plt.title('Change of cost function due to number of iterations')\n",
        "plt.legend()\n",
        "plt.show()"
      ],
      "metadata": {
        "colab": {
          "base_uri": "https://localhost:8080/",
          "height": 472
        },
        "id": "jDPv4UMr0YhX",
        "outputId": "3f3cd1ac-6799-4157-9123-58e398d3cd83"
      },
      "execution_count": 13,
      "outputs": [
        {
          "output_type": "display_data",
          "data": {
            "text/plain": [
              "<Figure size 640x480 with 1 Axes>"
            ],
            "image/png": "[encoded data removed]"
          },
          "metadata": {}
        }
      ]
    },
    {
      "cell_type": "markdown",
      "source": [
        "Calculate percentage change in cost after 10 iterations of the K-Means\n",
        "algorithm when the cluster centroids are initialized using c1.txt vs. c2.txt."
      ],
      "metadata": {
        "id": "GUSWSKLlAj_q"
      }
    },
    {
      "cell_type": "code",
      "source": [
        "(costs_c1[0]-costs_c1[10])/costs_c1[0] * 100"
      ],
      "metadata": {
        "colab": {
          "base_uri": "https://localhost:8080/"
        },
        "id": "ht3SKaBp4J7X",
        "outputId": "5a1460ca-9cfb-49e0-cb02-ea4aad30ddc9"
      },
      "execution_count": 14,
      "outputs": [
        {
          "output_type": "execute_result",
          "data": {
            "text/plain": [
              "26.483917144560547"
            ]
          },
          "metadata": {},
          "execution_count": 14
        }
      ]
    },
    {
      "cell_type": "code",
      "source": [
        "(costs_c2[0]-costs_c2[10])/costs_c2[0] * 100"
      ],
      "metadata": {
        "colab": {
          "base_uri": "https://localhost:8080/"
        },
        "id": "LuwdQ2itA7fE",
        "outputId": "b6347ef4-1013-423c-ecdc-380ff77c51a3"
      },
      "execution_count": 15,
      "outputs": [
        {
          "output_type": "execute_result",
          "data": {
            "text/plain": [
              "76.69795594605947"
            ]
          },
          "metadata": {},
          "execution_count": 15
        }
      ]
    },
    {
      "cell_type": "markdown",
      "source": [
        "## b) Exploring initialization strategies with Manhattan distance"
      ],
      "metadata": {
        "id": "lCFi2JWKHIBQ"
      }
    },
    {
      "cell_type": "markdown",
      "source": [
        "Load the data again to reset the state to the starting point."
      ],
      "metadata": {
        "id": "w8O9E-fzHnFO"
      }
    },
    {
      "cell_type": "code",
      "source": [
        "# Load data from data.txt\n",
        "data = sc.textFile(\"data.txt\").map(lambda line: list(map(float, line.strip().split(' '))))\n",
        "\n",
        "# Load initial centroids from c1.txt and c2.txt\n",
        "initial_centroids_c1 = sc.textFile(\"c1.txt\").map(lambda line: list(map(float, line.strip().split(' '))))\n",
        "initial_centroids_c2 = sc.textFile(\"c2.txt\").map(lambda line: list(map(float, line.strip().split(' '))))"
      ],
      "metadata": {
        "id": "TlQIarXAHmpx"
      },
      "execution_count": 16,
      "outputs": []
    },
    {
      "cell_type": "markdown",
      "source": [
        "We will utilize the Manhattan distance metric to assign each point to the centroid that is closest, aiming to minimize the cost function $\\psi = \\sum_{x ∈ 𝑋} min_{c \\in 𝐶} | x - c |$."
      ],
      "metadata": {
        "id": "64A-AedkH0_j"
      }
    },
    {
      "cell_type": "code",
      "source": [
        "def manhattan_distance(v1, v2):\n",
        "    s = 0\n",
        "    for x, y in list(zip(v1, v2)):\n",
        "      s += __builtin__.abs(x - y)\n",
        "    return s"
      ],
      "metadata": {
        "id": "i62xGfweHPZC"
      },
      "execution_count": 17,
      "outputs": []
    },
    {
      "cell_type": "code",
      "source": [
        "def assign_cluster_man(point, centroids):\n",
        "    min_distance = float('inf')\n",
        "    closest_centroid = None\n",
        "    for centroid in centroids:\n",
        "        distance = manhattan_distance(point, centroid)\n",
        "        if distance < min_distance:\n",
        "            min_distance = distance\n",
        "            closest_centroid = centroid\n",
        "    return closest_centroid, min_distance"
      ],
      "metadata": {
        "id": "zjvbw_8gJgh8"
      },
      "execution_count": 18,
      "outputs": []
    },
    {
      "cell_type": "code",
      "source": [
        "def compute_cost_man(data_rdd, centroids):\n",
        "    return data_rdd.map(lambda point: assign_cluster_man(point, centroids)[1]).sum()"
      ],
      "metadata": {
        "id": "VSAE0GfLSyIt"
      },
      "execution_count": 19,
      "outputs": []
    },
    {
      "cell_type": "code",
      "source": [
        "def kmeans_man(data_rdd, initial_centroids_rdd):\n",
        "    iterations = 20\n",
        "    costs = []\n",
        "\n",
        "    centroids = initial_centroids_rdd.collect()\n",
        "\n",
        "    for i in range(iterations):\n",
        "        cost = compute_cost_man(data_rdd, centroids)\n",
        "        costs.append(cost)\n",
        "\n",
        "        new_centroids = data.map(lambda point: (centroids.index(assign_cluster_man(point, centroids)[0]), point)).groupByKey().mapValues(list).map(lambda x: list(np.mean(x[1], axis=0)))\n",
        "        centroids = new_centroids.collect()\n",
        "\n",
        "    return costs\n",
        "\n",
        "# Run K-means with initial centroids from c1.txt\n",
        "costs_man_c1 = kmeans_man(data, initial_centroids_c1)\n",
        "\n",
        "# Run K-means with initial centroids from c2.txt\n",
        "costs_man_c2 = kmeans_man(data, initial_centroids_c2)\n"
      ],
      "metadata": {
        "id": "c2rAeU7XJmum"
      },
      "execution_count": 20,
      "outputs": []
    },
    {
      "cell_type": "code",
      "source": [
        "plt.plot(range(len(costs_man_c1)), costs_man_c1, label='c1.txt')\n",
        "plt.plot(range(len(costs_man_c2)), costs_man_c2, label='c2.txt')\n",
        "\n",
        "plt.xlabel('Iteration')\n",
        "plt.ylabel('Cost')\n",
        "plt.title('Change of cost function due to number of iterations')\n",
        "plt.legend()\n",
        "plt.show()"
      ],
      "metadata": {
        "colab": {
          "base_uri": "https://localhost:8080/",
          "height": 472
        },
        "id": "JGHyHKsKJuD8",
        "outputId": "38b34072-3902-4fc5-94af-3cbdc1b18cfe"
      },
      "execution_count": 21,
      "outputs": [
        {
          "output_type": "display_data",
          "data": {
            "text/plain": [
              "<Figure size 640x480 with 1 Axes>"
            ],
            "image/png": "[encoded data removed]"
          },
          "metadata": {}
        }
      ]
    },
    {
      "cell_type": "code",
      "source": [
        "(costs_man_c1[0]-costs_man_c1[10])/costs_man_c1[0] * 100"
      ],
      "metadata": {
        "colab": {
          "base_uri": "https://localhost:8080/"
        },
        "id": "PI4j5_WnJv6a",
        "outputId": "b163294a-265d-4c73-dba5-70690126b674"
      },
      "execution_count": 22,
      "outputs": [
        {
          "output_type": "execute_result",
          "data": {
            "text/plain": [
              "18.654709691385904"
            ]
          },
          "metadata": {},
          "execution_count": 22
        }
      ]
    },
    {
      "cell_type": "code",
      "source": [
        "(costs_man_c2[0]-costs_man_c2[10])/costs_man_c2[0] * 100"
      ],
      "metadata": {
        "colab": {
          "base_uri": "https://localhost:8080/"
        },
        "id": "NYiTIuKOJxxH",
        "outputId": "41c23007-04c9-44ef-d82e-c7cf1bfcc6d8"
      },
      "execution_count": 23,
      "outputs": [
        {
          "output_type": "execute_result",
          "data": {
            "text/plain": [
              "51.554099102389095"
            ]
          },
          "metadata": {},
          "execution_count": 23
        }
      ]
    }
  ]
}