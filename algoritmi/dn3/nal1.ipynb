{
 "cells": [
  {
   "cell_type": "code",
   "execution_count": 188,
   "metadata": {},
   "outputs": [],
   "source": [
    "import numpy as np \n",
    "import matplotlib.pyplot as plt"
   ]
  },
  {
   "cell_type": "code",
   "execution_count": 189,
   "metadata": {},
   "outputs": [],
   "source": [
    "# File \n",
    "file = \"points.txt\""
   ]
  },
  {
   "cell_type": "code",
   "execution_count": 190,
   "metadata": {},
   "outputs": [],
   "source": [
    "# Read txt file and create list of points\n",
    "f = open(file, \"r\")\n",
    "s = f.read().split(\"\\n\")\n",
    "points = [[float(y) for y in x.strip().split(\" \")] for x in s]"
   ]
  },
  {
   "cell_type": "code",
   "execution_count": 191,
   "metadata": {},
   "outputs": [],
   "source": [
    "# Get list of vertices for each polygon\n",
    "P = np.array([tuple(x) for x in zip(points[0], points[1])])\n",
    "Q = np.array([tuple(x) for x in zip(points[2], points[3])])"
   ]
  },
  {
   "cell_type": "code",
   "execution_count": 192,
   "metadata": {},
   "outputs": [],
   "source": [
    "def sort_coordinates(list_of_xy_coords):\n",
    "    cx, cy = list_of_xy_coords.mean(0)\n",
    "    x, y = list_of_xy_coords.T\n",
    "    angles = np.arctan2(x-cx, y-cy)\n",
    "    indices = np.argsort(angles)\n",
    "    return list_of_xy_coords[indices]"
   ]
  },
  {
   "cell_type": "code",
   "execution_count": 193,
   "metadata": {},
   "outputs": [],
   "source": [
    "# Sort vertices in clockwise order (done in linear time)\n",
    "P = sort_coordinates(P)\n",
    "Q = sort_coordinates(Q)"
   ]
  },
  {
   "cell_type": "code",
   "execution_count": 194,
   "metadata": {},
   "outputs": [],
   "source": [
    "def absolute_value(x):\n",
    "    return x[0] ** 2 + x[1] ** 2"
   ]
  },
  {
   "cell_type": "code",
   "execution_count": 195,
   "metadata": {},
   "outputs": [
    {
     "name": "stdout",
     "output_type": "stream",
     "text": [
      "[0. 1.] [1. 0.]\n"
     ]
    }
   ],
   "source": [
    "# Find maximum y-coordinate for each polygon \n",
    "i = np.argmax([x[1] for x in P])\n",
    "j = np.argmax([x[1] for x in Q])\n",
    "\n",
    "# Draw a vertical line\n",
    "v = [1, 0]\n",
    "\n",
    "print(P[i], Q[j])"
   ]
  },
  {
   "cell_type": "code",
   "execution_count": 196,
   "metadata": {},
   "outputs": [],
   "source": [
    "rotation = 0\n",
    "bridges = []"
   ]
  },
  {
   "cell_type": "code",
   "execution_count": 197,
   "metadata": {},
   "outputs": [
    {
     "name": "stdout",
     "output_type": "stream",
     "text": [
      "parallel!\n",
      "[2. 1.] [3. 0.]\n",
      "Added: (pi, qj)  (array([2., 1.]), array([3., 0.]))\n",
      "parallel!\n",
      "[1. 0.] [ 2. -1.]\n",
      "Added: (p_prev, q_prev)  (array([2., 1.]), array([3., 0.]))\n",
      "parallel!\n",
      "[0. 0.] [ 1. -1.]\n",
      "Added: (pi, qj)  (array([0., 0.]), array([ 1., -1.]))\n",
      "parallel!\n",
      "[0. 1.] [1. 0.]\n",
      "Added: (p_prev, q_prev)  (array([0., 0.]), array([ 1., -1.]))\n",
      "parallel!\n",
      "[2. 1.] [3. 0.]\n",
      "Added: (pi, qj)  (array([2., 1.]), array([3., 0.]))\n"
     ]
    }
   ],
   "source": [
    "while rotation < 2 * np.pi:\n",
    "    # Calculate vector on the edge of P between p_i and p_i+1\n",
    "    i_next = (i + 1) % len(P)\n",
    "    pi = P[i]\n",
    "    pi_next = P[i_next]\n",
    "    p_vec = [pi_next[0] - pi[0], pi_next[1] - pi[1]]\n",
    "    \n",
    "    # Calculate vector on the edge of Q between q_j and q_j+1\n",
    "    j_next = (j + 1) % len(Q)\n",
    "    qj = Q[j]\n",
    "    qj_next = Q[j_next]\n",
    "    q_vec = [qj_next[0] - qj[0], qj_next[1] - qj[1]]\n",
    "\n",
    "    # Find minimum angle between vertical line and p_vec / q_vec\n",
    "    theta_P = np.arccos(np.dot(v, p_vec) / ((absolute_value(v)**(1/2)) * (absolute_value(p_vec)**(1/2))))\n",
    "    theta_Q = np.arccos(np.dot(v, q_vec) / ((absolute_value(v)**(1/2)) * (absolute_value(q_vec)**(1/2))))\n",
    "\n",
    "\n",
    "    if theta_P < theta_Q:\n",
    "        # Consider points pi = p1 and qj = q and points p_i-1, p_i+1, q_j-1, q_j+1.\n",
    "        i = i_next\n",
    "        # Rotate the vertical line by theta_P\n",
    "        rotation += theta_P\n",
    "        v = [v[0] * np.cos(theta_P) + v[1] * np.sin(theta_P), - v[0] * np.sin(theta_P) + v[1] * np.cos(theta_P)]\n",
    "        \n",
    "    elif theta_P > theta_Q:\n",
    "        # Consider points pi = p and qj = q\n",
    "        j = j_next\n",
    "        # Rotate the vertical line by theta_Q\n",
    "        rotation += theta_Q\n",
    "        v = [v[0] * np.cos(theta_Q) + v[1] * np.sin(theta_Q), - v[0] * np.sin(theta_Q) + v[1] * np.cos(theta_Q)]\n",
    "\n",
    "    else: # theta_P == theta_Q\n",
    "        i = i_next\n",
    "        j = j_next\n",
    "        rotation += theta_P\n",
    "        v = [v[0] * np.cos(theta_P) + v[1] * np.sin(theta_P), - v[0] * np.sin(theta_P) + v[1] * np.cos(theta_P)]\n",
    "\n",
    "\n",
    "    if theta_P != theta_Q:\n",
    "        qj = Q[j]\n",
    "        pi = P[i]\n",
    "        print(\"non parallel!\")\n",
    "        print(pi, qj)\n",
    "        line = [pi[0] - qj[0], pi[1] - qj[1]]\n",
    "        c1 = np.sign(np.cross(line, [pi[0] - P[(i - 1) % len(P)][0], pi[1] - P[(i - 1) % len(P)][1]]))\n",
    "        c2 = np.sign(np.cross(line, [pi[0] - P[(i + 1) % len(P)][0], pi[1] - P[(i + 1) % len(P)][1]]))\n",
    "        c3 = np.sign(np.cross(line, [pi[0] - Q[(j - 1) % len(Q)][0], pi[1] - Q[(j - 1) % len(Q)][1]]))\n",
    "        c4 = np.sign(np.cross(line, [pi[0] - Q[(j + 1) % len(Q)][0], pi[1] - Q[(j + 1) % len(Q)][1]]))\n",
    "\n",
    "        if len(set([c1, c2, c3, c4])) == 1:\n",
    "            bridges += [(pi, qj)]\n",
    "\n",
    "    else: # parallel edges!\n",
    "        # We have to consider lines [p_i, q_i-1], [p_i-1, q_i], [p_i-1, q_i-1], [p_i, q_i]\n",
    "        qj = Q[j]\n",
    "        pi = P[i]\n",
    "        print(\"parallel!\")\n",
    "        print(pi, qj)\n",
    "        q_prev = Q[(j - 1) % len(Q)]\n",
    "        p_prev = P[(i - 1) % len(P)]\n",
    "        q_next = Q[(j + 1) % len(Q)]\n",
    "        p_next = P[(i + 1) % len(P)]\n",
    "\n",
    "        # Line through p_i and q_i-1\n",
    "        line1 = [pi[0] - q_prev[0], pi[1] - q_prev[1]]\n",
    "        c1 = np.sign(np.cross(line1, [pi[0] - p_prev[0], pi[1] - p_prev[1]]))\n",
    "        c2 = np.sign(np.cross(line1, [pi[0] - p_next[0], pi[1] - p_next[1]]))\n",
    "        c3 = np.sign(np.cross(line1, [pi[0] - Q[(j - 2) % len(Q)][0], pi[1] - Q[(j - 2) % len(Q)][1]]))\n",
    "        c4 = np.sign(np.cross(line1, [pi[0] - qj[0], pi[1] - qj[1]]))\n",
    "        if len(set([c1, c2, c3, c4])) == 1:\n",
    "            print(\"Added: (pi, q_prev) \", (pi, q_prev))\n",
    "            bridges += [(pi, q_prev)]\n",
    "        \n",
    "        # Line through p_i-1 and q_i\n",
    "        line2 = [p_prev[0] - qj[0], p_prev[1] - qj[1]]\n",
    "        c1 = np.sign(np.cross(line2, [p_prev[0] - P[(i - 2) % len(P)][0], p_prev[1] - P[(i - 2) % len(P)][1]]))\n",
    "        c2 = np.sign(np.cross(line2, [p_prev[0] - pi[0], p_prev[1] - pi[1]]))\n",
    "        c3 = np.sign(np.cross(line2, [p_prev[0] - q_prev[0], p_prev[1] - q_prev[1]]))\n",
    "        c4 = np.sign(np.cross(line2, [p_prev[0] - q_next[0], p_prev[1] - q_next[1]]))\n",
    "        if len(set([c1, c2, c3, c4])) == 1:\n",
    "            print(\"Added: (p_prev, qj) \", (p_prev, qj))\n",
    "            bridges += [(p_prev, qj)]\n",
    "\n",
    "        # Line through p_i-1 and q_i-1\n",
    "        line3 = [p_prev[0] - q_prev[0], p_prev[1] - q_prev[1]]\n",
    "        c1 = np.sign(np.cross(line3, [p_prev[0] - P[(i - 2) % len(P)][0], p_prev[1] - P[(i - 2) % len(P)][1]]))\n",
    "        c2 = np.sign(np.cross(line3, [p_prev[0] - pi[0], p_prev[1] - pi[1]]))\n",
    "        c3 = np.sign(np.cross(line3, [p_prev[0] - Q[(j - 2) % len(Q)][0], p_prev[1] - Q[(j - 2) % len(Q)][1]]))\n",
    "        c4 = np.sign(np.cross(line3, [p_prev[0] - qj[0], p_prev[1] - qj[1]]))\n",
    "        if len(set([c1, c2, c3, c4])) == 1:\n",
    "            print(\"Added: (p_prev, q_prev) \", (p_prev, q_prev))\n",
    "            bridges += [(p_prev, q_prev)]\n",
    "\n",
    "        line4 = [pi[0] - qj[0], pi[1] - qj[1]]\n",
    "        c1 = np.sign(np.cross(line4, [pi[0] - p_prev[0], pi[1] - p_prev[1]]))\n",
    "        c2 = np.sign(np.cross(line4, [pi[0] - p_next[0], pi[1] - p_next[1]]))\n",
    "        c3 = np.sign(np.cross(line4, [pi[0] - q_prev[0], pi[1] - q_prev[1]]))\n",
    "        c4 = np.sign(np.cross(line4, [pi[0] - q_next[0], pi[1] - q_next[1]]))\n",
    "        if len(set([c1, c2, c3, c4])) == 1:\n",
    "            print(\"Added: (pi, qj) \", (pi, qj))\n",
    "            bridges += [(pi, qj)]\n",
    "        "
   ]
  },
  {
   "cell_type": "code",
   "execution_count": 198,
   "metadata": {},
   "outputs": [],
   "source": [
    "bridges_aux = [(list(pair[0]), list(pair[1])) for pair in bridges]\n",
    "\n",
    "bridges = []\n",
    "for b in bridges_aux:\n",
    "    if b not in bridges:\n",
    "        bridges += [b]"
   ]
  },
  {
   "cell_type": "code",
   "execution_count": 211,
   "metadata": {},
   "outputs": [
    {
     "data": {
      "text/plain": [
       "[[[2.0, 1.0], [3.0, 0.0]], [[0.0, 0.0], [1.0, -1.0]]]"
      ]
     },
     "execution_count": 211,
     "metadata": {},
     "output_type": "execute_result"
    }
   ],
   "source": [
    "[list(x) for x in bridges]"
   ]
  },
  {
   "cell_type": "code",
   "execution_count": 209,
   "metadata": {},
   "outputs": [
    {
     "data": {
      "text/plain": [
       "[(2.0, 1.0), (3.0, 0.0), (0.0, 0.0), (1.0, -1.0)]"
      ]
     },
     "execution_count": 209,
     "metadata": {},
     "output_type": "execute_result"
    }
   ],
   "source": [
    "[tuple(x) for x in list(np.concatenate(bridges))]"
   ]
  },
  {
   "cell_type": "code",
   "execution_count": 201,
   "metadata": {},
   "outputs": [],
   "source": [
    "P = [tuple(x) for x in list(P)]\n",
    "Q = [tuple(x) for x in list(Q)]"
   ]
  },
  {
   "cell_type": "code",
   "execution_count": 202,
   "metadata": {},
   "outputs": [],
   "source": [
    "bridge_points = [tuple(x) for x in list(np.concatenate(bridges))]\n",
    "hull = []\n",
    "case = \"\"\n",
    "\n",
    "i = np.argmax([x[1] for x in P])\n",
    "j = np.argmax([x[1] for x in Q])\n",
    "\n",
    "if P[i][1] > Q[j][1]:\n",
    "    start = P[i]\n",
    "    hull += [start]\n",
    "    case = \"P\"\n",
    "    start_case = \"P\"\n",
    "    i = (i + 1) % len(P)\n",
    "else:\n",
    "    start = Q[j]\n",
    "    hull += [start]\n",
    "    case = \"Q\"\n",
    "    start_case = \"Q\"\n",
    "    i = j\n",
    "    i = (i + 1) % len(Q)"
   ]
  },
  {
   "cell_type": "code",
   "execution_count": 203,
   "metadata": {},
   "outputs": [],
   "source": [
    "def create_hull(i, hull, P, Q, start, case, on_bridge = False):\n",
    "    if case == \"P\":\n",
    "        if P[i] == start:\n",
    "            return hull\n",
    "        elif P[i] not in bridge_points or on_bridge == True:\n",
    "            hull += [P[i]]\n",
    "            i = (i + 1) % len(P)\n",
    "            return create_hull(i, hull, P, Q, start, \"P\", False)\n",
    "        else: # P[i] in bridge_points:\n",
    "            hull += [P[i]]\n",
    "            index = bridge_points.index(P[i])\n",
    "            q = bridge_points[(index + 1) % len(bridge_points)]\n",
    "            i = Q.index(q)\n",
    "            return create_hull(i, hull, P, Q, start, \"Q\", True)\n",
    "        \n",
    "    else: # case == \"Q\":\n",
    "        if Q[i] == start:\n",
    "            return hull\n",
    "        elif Q[i] not in bridge_points or on_bridge == True:\n",
    "            hull += [Q[i]]\n",
    "            i = (i + 1) % len(Q)\n",
    "            return create_hull(i, hull,P, Q, start, \"Q\", False)\n",
    "        else: # Q[i] in bridge_points:\n",
    "            hull += [Q[i]]\n",
    "            index = bridge_points.index(Q[i])\n",
    "            p = bridge_points[(index - 1) % len(bridge_points)]\n",
    "            i = P.index(p)\n",
    "            return create_hull(i, hull, P, Q, start, \"P\", True)"
   ]
  },
  {
   "cell_type": "code",
   "execution_count": 204,
   "metadata": {},
   "outputs": [
    {
     "data": {
      "text/plain": [
       "[(0.0, 1.0), (2.0, 1.0), (3.0, 0.0), (2.0, -1.0), (1.0, -1.0), (0.0, 0.0)]"
      ]
     },
     "execution_count": 204,
     "metadata": {},
     "output_type": "execute_result"
    }
   ],
   "source": [
    "hull = create_hull(i, hull, P, Q, start, case)\n",
    "hull"
   ]
  },
  {
   "cell_type": "code",
   "execution_count": 205,
   "metadata": {},
   "outputs": [
    {
     "data": {
      "text/plain": [
       "'0 2 3 2 1 0\\n0 2 3 2 1 0'"
      ]
     },
     "execution_count": 205,
     "metadata": {},
     "output_type": "execute_result"
    }
   ],
   "source": [
    "hull_x = [x[0] for x in hull]\n",
    "x_line = \" \".join([str(int(x)) if x.is_integer() else x for x in hull_x])\n",
    "hull_y = [x[0] for x in hull]\n",
    "y_line = \" \".join([str(int(x)) if x.is_integer() else x for x in hull_y])\n",
    "\n",
    "to_write = x_line + \"\\n\" + y_line\n",
    "to_write"
   ]
  },
  {
   "cell_type": "code",
   "execution_count": 206,
   "metadata": {},
   "outputs": [],
   "source": [
    "f = open(\"output.txt\", \"w+\")\n",
    "f.write(to_write)\n",
    "f.close()"
   ]
  },
  {
   "cell_type": "code",
   "execution_count": 207,
   "metadata": {},
   "outputs": [
    {
     "data": {
      "text/plain": [
       "[<matplotlib.lines.Line2D at 0x163fb4c6450>]"
      ]
     },
     "execution_count": 207,
     "metadata": {},
     "output_type": "execute_result"
    },
    {
     "data": {
      "image/png": "[encoded data removed]",
      "text/plain": [
       "<Figure size 640x480 with 1 Axes>"
      ]
     },
     "metadata": {},
     "output_type": "display_data"
    }
   ],
   "source": [
    "# Plot both P and Q and the convex hull of their union\n",
    "plt.plot([x[0] for x in P] + [P[0][0]], [x[1] for x in P] + [P[0][1]])\n",
    "plt.plot([x[0] for x in Q] + [Q[0][0]], [x[1] for x in Q] + [Q[0][1]])\n",
    "plt.plot([x[0] for x in hull] + [hull[0][0]], [x[1] for x in hull] + [hull[0][1]], linestyle='dashed')"
   ]
  },
  {
   "cell_type": "code",
   "execution_count": 215,
   "metadata": {},
   "outputs": [
    {
     "data": {
      "text/plain": [
       "[((0.0, 0.0), (0.0, 1.0)),\n",
       " ((0.0, 1.0), (2.0, 1.0)),\n",
       " ((2.0, 1.0), (1.0, 0.0)),\n",
       " ((1.0, 0.0), (0.0, 0.0))]"
      ]
     },
     "execution_count": 215,
     "metadata": {},
     "output_type": "execute_result"
    }
   ],
   "source": [
    "[(P[i], P[i+1]) for i in range(len(P) - 1)] + [(P[-1], P[0])]"
   ]
  }
 ],
 "metadata": {
  "kernelspec": {
   "display_name": "Python 3",
   "language": "python",
   "name": "python3"
  },
  "language_info": {
   "codemirror_mode": {
    "name": "ipython",
    "version": 3
   },
   "file_extension": ".py",
   "mimetype": "text/x-python",
   "name": "python",
   "nbconvert_exporter": "python",
   "pygments_lexer": "ipython3",
   "version": "3.11.9"
  }
 },
 "nbformat": 4,
 "nbformat_minor": 2
}
